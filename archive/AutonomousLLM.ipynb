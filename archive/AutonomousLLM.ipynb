{
 "cells": [
  {
   "cell_type": "code",
   "execution_count": 124,
   "metadata": {},
   "outputs": [],
   "source": [
    "#|default_exp AutonomousLLM"
   ]
  },
  {
   "cell_type": "code",
   "execution_count": 125,
   "metadata": {},
   "outputs": [],
   "source": [
    "#|export\n",
    "import os\n",
    "import openai\n",
    "import inspect\n",
    "import types\n",
    "import textwrap\n",
    "import guardrails as gd\n",
    "from rich import print\n",
    "from dotenv import load_dotenv\n",
    "from ast import literal_eval\n",
    "import json\n",
    "import nbdev\n",
    "from retry import retry\n",
    "import traceback\n",
    "import subprocess\n",
    "from functools import wraps\n",
    "import types"
   ]
  },
  {
   "cell_type": "code",
   "execution_count": 126,
   "metadata": {},
   "outputs": [
    {
     "data": {
      "text/plain": [
       "True"
      ]
     },
     "execution_count": 126,
     "metadata": {},
     "output_type": "execute_result"
    }
   ],
   "source": [
    "#|export\n",
    "load_dotenv()"
   ]
  },
  {
   "attachments": {},
   "cell_type": "markdown",
   "metadata": {},
   "source": [
    "# Code"
   ]
  },
  {
   "cell_type": "code",
   "execution_count": 135,
   "metadata": {},
   "outputs": [],
   "source": [
    "#|export\n",
    "def install_missing_module(func):\n",
    "    @wraps(func)\n",
    "    def wrapper(*args, **kwargs):\n",
    "        try:\n",
    "            return func(*args, **kwargs)\n",
    "        except ModuleNotFoundError as error:\n",
    "            module_name = traceback.extract_tb(error.__traceback__)[-1].name\n",
    "            print(\"Module not found:\", module_name)\n",
    "\n",
    "            # Install the module using pip\n",
    "            try:\n",
    "                subprocess.check_call([\"pip\", \"install\", module_name])\n",
    "                print(\"Module installed successfully!\")\n",
    "                return func(*args, **kwargs)  # Retry the function after installation\n",
    "            except subprocess.CalledProcessError as install_error:\n",
    "                print(\"Failed to install the module:\", install_error)\n",
    "    \n",
    "    return wrapper"
   ]
  },
  {
   "cell_type": "code",
   "execution_count": 136,
   "metadata": {},
   "outputs": [],
   "source": [
    "#|export\n",
    "class Utils:\n",
    "    def __init__(self):\n",
    "        pass\n",
    "\n",
    "    def is_builtin(self, obj):\n",
    "        \"\"\"Check if an object is a built-in function or method.\"\"\"\n",
    "        if isinstance(obj, types.BuiltinFunctionType) or isinstance(\n",
    "            obj, types.BuiltinMethodType\n",
    "        ):\n",
    "            return True\n",
    "        return False\n",
    "\n",
    "    def inspect_methods(self, obj):\n",
    "        \"\"\"Print the methods and code implementation of an object.\"\"\"\n",
    "        output_string = \"\"\n",
    "\n",
    "        methods = inspect.getmembers(obj, inspect.ismethod)\n",
    "        for name, method in methods:\n",
    "            if not self.is_builtin(method):\n",
    "                output_string += inspect.getsource(method) + \"\\n\"\n",
    "\n",
    "        dedented_code = textwrap.dedent(output_string)\n",
    "        return dedented_code\n",
    "\n",
    "    def convert_string_to_dict(self, string):\n",
    "        cleaned_string = string.replace('\\n', '')\n",
    "        dictionary = json.loads(cleaned_string)\n",
    "        return dictionary"
   ]
  },
  {
   "cell_type": "code",
   "execution_count": 137,
   "metadata": {},
   "outputs": [],
   "source": [
    "#|export\n",
    "class Call:\n",
    "    def __init__(self) -> None:\n",
    "        pass\n",
    "\n",
    "    def _call_api(self, prompt):\n",
    "        print(\"=== Calling API ====\")\n",
    "        print(\"PROMPT: \", prompt)\n",
    "        response = openai.ChatCompletion.create(\n",
    "            model=\"gpt-3.5-turbo\",\n",
    "            messages=[\n",
    "                {\"role\": \"system\", \"content\": \"You are a helpful assistant.\"},\n",
    "                {\"role\": \"user\", \"content\": prompt},\n",
    "            ],\n",
    "        )\n",
    "        print(response.choices[0].message.content)\n",
    "        return response\n",
    "    \n",
    "    def generate_code_given_task(self, task):\n",
    "        prompt = f\"\"\"Based on a task, implement it in python code.\n",
    "                    Ensure that the implementation is as detailed as possible, and ensure that it is fully functioning.\n",
    "                    Only return python code and nothing else\n",
    "\n",
    "                    The task is:\n",
    "                    {task}\"\"\"\n",
    "        \n",
    "        return self._call_api(prompt)"
   ]
  },
  {
   "cell_type": "code",
   "execution_count": 138,
   "metadata": {},
   "outputs": [],
   "source": [
    "#|export\n",
    "class GuardedCall:\n",
    "\n",
    "    def __init__(self) -> None:\n",
    "        pass\n",
    "    \n",
    "    @retry(Exception, tries=3, delay=1)\n",
    "    def _guard_call_api(self, guard, params={}, temperature = 0):\n",
    "        print(\"=== Calling API ====\")\n",
    "        print(\"PARAMS: \", params)\n",
    "        raw_llm_response, validated_response = guard(\n",
    "            openai.ChatCompletion.create,\n",
    "            prompt_params=params,\n",
    "            model=\"gpt-3.5-turbo\",\n",
    "            max_tokens=2048,\n",
    "            temperature=temperature,\n",
    "        )\n",
    "\n",
    "        print(raw_llm_response)\n",
    "\n",
    "        return validated_response\n",
    "    \n",
    "    def format_code_to_JSON(self, code):\n",
    "        guard = gd.Guard.from_rail(\"./rail/code_format.xml\")\n",
    "        return self._guard_call_api(guard, {\"code\": code})\n",
    "     \n",
    "    def generate_ideas(self):\n",
    "        guard = gd.Guard.from_rail(\"./rail/idea_gen.xml\")\n",
    "        return self._guard_call_api(guard, temperature=0.7)\n",
    "    \n",
    "    def generate_subtasks_from_task(self, task):\n",
    "        guard = gd.Guard.from_rail(\"./rail/subtask_gen.xml\")\n",
    "        return self._guard_call_api(guard, {'task': task} ,temperature=0.7)\n",
    "        "
   ]
  },
  {
   "cell_type": "code",
   "execution_count": 139,
   "metadata": {},
   "outputs": [],
   "source": [
    "#|export\n",
    "class Chain:\n",
    "    def __init__(self) -> None:\n",
    "        pass\n",
    "\n",
    "class CodeGenChain(Chain, GuardedCall, Call):\n",
    "    def __init__(self) -> None:\n",
    "        super().__init__()\n",
    "    \n",
    "    def run_pipeline(self, task: str):\n",
    "        res = self.generate_code_given_task(task)\n",
    "        res = self.format_code_to_JSON(res.choices[0].message.content)\n",
    "        return res"
   ]
  },
  {
   "cell_type": "code",
   "execution_count": 148,
   "metadata": {},
   "outputs": [],
   "source": [
    "#|export\n",
    "\n",
    "class AutonomousLLM(Utils, GuardedCall, Call):\n",
    "    def __init__(self):\n",
    "        super().__init__()\n",
    "        openai.api_key = os.getenv(\"OPENAI_API_KEY\")\n",
    "        self.ideas = []\n",
    "        self.subtasks = []\n",
    "        self.methods = []\n",
    "        self.chain = CodeGenChain()\n",
    "\n",
    "    @retry(Exception, tries=3, delay=1)\n",
    "    @install_missing_module\n",
    "    def execute_code(self, code):\n",
    "        # Process the returned code and add it to AutonomousLLM\n",
    "        exec(code, globals())\n",
    "\n",
    "    @retry(Exception, tries=3, delay=1)\n",
    "    @install_missing_module\n",
    "    def execute_code_local(self, code):\n",
    "        exec(code, globals(), locals())\n",
    "\n",
    "    def add_ability(self, response):\n",
    "        if new_func := response.get('new_method'):\n",
    "            self.methods.append(new_func)  \n",
    "            self.execute_code(textwrap.dedent(new_func))\n",
    "\n",
    "        if attach_func := response.get('attach_method'):      \n",
    "            self.execute_code_local(textwrap.dedent(attach_func))\n",
    "\n",
    "    def run(self, num_calls=500):\n",
    "        calls_to_make = num_calls\n",
    "        while calls_to_make > 0:\n",
    "            if len(self.subtasks) <= 0:\n",
    "                calls_to_make -= 1\n",
    "                # Make an API call to GPT-3.5 Turbo\n",
    "                if len(self.ideas) < 1:\n",
    "                    self.ideas += self.generate_ideas()['ideas']\n",
    "                    continue\n",
    "    \n",
    "                idea = self.ideas.pop(0)\n",
    "                print(\"IDEA:\", idea)\n",
    "\n",
    "                subtask_res = self.generate_subtasks_from_task(idea)\n",
    "\n",
    "                if subtask_res.get('requires_subtasks') == True:\n",
    "                    self.subtasks = subtask_res.get('subtasks')\n",
    "                    continue\n",
    "                \n",
    "                res = self.chain.run_pipeline(idea)\n",
    "                self.add_ability(res)\n",
    "            else:\n",
    "                subtask = self.subtasks.pop(0)\n",
    "                res = self.chain.run_pipeline(subtask)\n",
    "                self.add_ability(res)\n",
    "\n",
    "\n",
    "\n",
    "    def use_new_ability(self):\n",
    "        # Use the newly added ability in your code\n",
    "        pass"
   ]
  },
  {
   "cell_type": "code",
   "execution_count": 153,
   "metadata": {},
   "outputs": [],
   "source": [
    "#|export\n",
    "auto_llm = AutonomousLLM()"
   ]
  },
  {
   "cell_type": "code",
   "execution_count": 154,
   "metadata": {},
   "outputs": [
    {
     "data": {
      "text/html": [
       "<pre style=\"white-space:pre;overflow-x:auto;line-height:normal;font-family:Menlo,'DejaVu Sans Mono',consolas,'Courier New',monospace\">=== Calling API ====\n",
       "</pre>\n"
      ],
      "text/plain": [
       "=== Calling API ====\n"
      ]
     },
     "metadata": {},
     "output_type": "display_data"
    },
    {
     "data": {
      "text/html": [
       "<pre style=\"white-space:pre;overflow-x:auto;line-height:normal;font-family:Menlo,'DejaVu Sans Mono',consolas,'Courier New',monospace\">PARAMS: \n",
       "<span style=\"font-weight: bold\">{}</span>\n",
       "</pre>\n"
      ],
      "text/plain": [
       "PARAMS: \n",
       "\u001b[1m{\u001b[0m\u001b[1m}\u001b[0m\n"
      ]
     },
     "metadata": {},
     "output_type": "display_data"
    },
    {
     "data": {
      "text/html": [
       "<pre style=\"white-space:pre;overflow-x:auto;line-height:normal;font-family:Menlo,'DejaVu Sans Mono',consolas,'Courier New',monospace\">=== Calling API ====\n",
       "</pre>\n"
      ],
      "text/plain": [
       "=== Calling API ====\n"
      ]
     },
     "metadata": {},
     "output_type": "display_data"
    },
    {
     "data": {
      "text/html": [
       "<pre style=\"white-space:pre;overflow-x:auto;line-height:normal;font-family:Menlo,'DejaVu Sans Mono',consolas,'Courier New',monospace\">PARAMS: \n",
       "<span style=\"font-weight: bold\">{}</span>\n",
       "</pre>\n"
      ],
      "text/plain": [
       "PARAMS: \n",
       "\u001b[1m{\u001b[0m\u001b[1m}\u001b[0m\n"
      ]
     },
     "metadata": {},
     "output_type": "display_data"
    },
    {
     "data": {
      "text/html": [
       "<pre style=\"white-space:pre;overflow-x:auto;line-height:normal;font-family:Menlo,'DejaVu Sans Mono',consolas,'Courier New',monospace\"><span style=\"font-weight: bold\">{</span>\n",
       "    <span style=\"color: #008000; text-decoration-color: #008000\">\"ideas\"</span>: <span style=\"font-weight: bold\">[</span>\n",
       "        <span style=\"color: #008000; text-decoration-color: #008000\">\"Ability to set reminders and receive notifications\"</span>,\n",
       "        <span style=\"color: #008000; text-decoration-color: #008000\">\"Integration with popular note-taking apps to save important information\"</span>,\n",
       "        <span style=\"color: #008000; text-decoration-color: #008000\">\"Personalized daily recommendations based on user preferences and habits\"</span>\n",
       "    <span style=\"font-weight: bold\">]</span>\n",
       "<span style=\"font-weight: bold\">}</span>\n",
       "</pre>\n"
      ],
      "text/plain": [
       "\u001b[1m{\u001b[0m\n",
       "    \u001b[32m\"ideas\"\u001b[0m: \u001b[1m[\u001b[0m\n",
       "        \u001b[32m\"Ability to set reminders and receive notifications\"\u001b[0m,\n",
       "        \u001b[32m\"Integration with popular note-taking apps to save important information\"\u001b[0m,\n",
       "        \u001b[32m\"Personalized daily recommendations based on user preferences and habits\"\u001b[0m\n",
       "    \u001b[1m]\u001b[0m\n",
       "\u001b[1m}\u001b[0m\n"
      ]
     },
     "metadata": {},
     "output_type": "display_data"
    },
    {
     "data": {
      "text/html": [
       "<pre style=\"white-space:pre;overflow-x:auto;line-height:normal;font-family:Menlo,'DejaVu Sans Mono',consolas,'Courier New',monospace\">IDEA: Ability to set reminders and receive notifications\n",
       "</pre>\n"
      ],
      "text/plain": [
       "IDEA: Ability to set reminders and receive notifications\n"
      ]
     },
     "metadata": {},
     "output_type": "display_data"
    },
    {
     "data": {
      "text/html": [
       "<pre style=\"white-space:pre;overflow-x:auto;line-height:normal;font-family:Menlo,'DejaVu Sans Mono',consolas,'Courier New',monospace\">=== Calling API ====\n",
       "</pre>\n"
      ],
      "text/plain": [
       "=== Calling API ====\n"
      ]
     },
     "metadata": {},
     "output_type": "display_data"
    },
    {
     "data": {
      "text/html": [
       "<pre style=\"white-space:pre;overflow-x:auto;line-height:normal;font-family:Menlo,'DejaVu Sans Mono',consolas,'Courier New',monospace\">PARAMS: \n",
       "<span style=\"font-weight: bold\">{</span><span style=\"color: #008000; text-decoration-color: #008000\">'task'</span>: <span style=\"color: #008000; text-decoration-color: #008000\">'Ability to set reminders and receive notifications'</span><span style=\"font-weight: bold\">}</span>\n",
       "</pre>\n"
      ],
      "text/plain": [
       "PARAMS: \n",
       "\u001b[1m{\u001b[0m\u001b[32m'task'\u001b[0m: \u001b[32m'Ability to set reminders and receive notifications'\u001b[0m\u001b[1m}\u001b[0m\n"
      ]
     },
     "metadata": {},
     "output_type": "display_data"
    },
    {
     "data": {
      "text/html": [
       "<pre style=\"white-space:pre;overflow-x:auto;line-height:normal;font-family:Menlo,'DejaVu Sans Mono',consolas,'Courier New',monospace\"><span style=\"font-weight: bold\">{</span>\n",
       "    <span style=\"color: #008000; text-decoration-color: #008000\">\"requires_subtasks\"</span>: true,\n",
       "    <span style=\"color: #008000; text-decoration-color: #008000\">\"subtasks\"</span>: <span style=\"font-weight: bold\">[</span>\n",
       "        <span style=\"color: #008000; text-decoration-color: #008000\">\"Create a reminder system\"</span>,\n",
       "        <span style=\"color: #008000; text-decoration-color: #008000\">\"Implement notification system\"</span>,\n",
       "        <span style=\"color: #008000; text-decoration-color: #008000\">\"User interface to set and manage reminders\"</span>,\n",
       "        <span style=\"color: #008000; text-decoration-color: #008000\">\"Database to store reminders and associated data\"</span>,\n",
       "        <span style=\"color: #008000; text-decoration-color: #008000\">\"Integration with device's notification settings\"</span>,\n",
       "        <span style=\"color: #008000; text-decoration-color: #008000\">\"Testing and debugging of the reminder and notification systems\"</span>\n",
       "    <span style=\"font-weight: bold\">]</span>\n",
       "<span style=\"font-weight: bold\">}</span>\n",
       "</pre>\n"
      ],
      "text/plain": [
       "\u001b[1m{\u001b[0m\n",
       "    \u001b[32m\"requires_subtasks\"\u001b[0m: true,\n",
       "    \u001b[32m\"subtasks\"\u001b[0m: \u001b[1m[\u001b[0m\n",
       "        \u001b[32m\"Create a reminder system\"\u001b[0m,\n",
       "        \u001b[32m\"Implement notification system\"\u001b[0m,\n",
       "        \u001b[32m\"User interface to set and manage reminders\"\u001b[0m,\n",
       "        \u001b[32m\"Database to store reminders and associated data\"\u001b[0m,\n",
       "        \u001b[32m\"Integration with device's notification settings\"\u001b[0m,\n",
       "        \u001b[32m\"Testing and debugging of the reminder and notification systems\"\u001b[0m\n",
       "    \u001b[1m]\u001b[0m\n",
       "\u001b[1m}\u001b[0m\n"
      ]
     },
     "metadata": {},
     "output_type": "display_data"
    },
    {
     "data": {
      "text/html": [
       "<pre style=\"white-space:pre;overflow-x:auto;line-height:normal;font-family:Menlo,'DejaVu Sans Mono',consolas,'Courier New',monospace\">=== Calling API ====\n",
       "</pre>\n"
      ],
      "text/plain": [
       "=== Calling API ====\n"
      ]
     },
     "metadata": {},
     "output_type": "display_data"
    },
    {
     "data": {
      "text/html": [
       "<pre style=\"white-space:pre;overflow-x:auto;line-height:normal;font-family:Menlo,'DejaVu Sans Mono',consolas,'Courier New',monospace\">PROMPT:  Based on a task, implement it in python code.\n",
       "                    Ensure that the implementation is as detailed as possible, and ensure that it is fully \n",
       "functioning.\n",
       "                    Only return python code and nothing else\n",
       "\n",
       "                    The task is:\n",
       "                    Create a reminder system\n",
       "</pre>\n"
      ],
      "text/plain": [
       "PROMPT:  Based on a task, implement it in python code.\n",
       "                    Ensure that the implementation is as detailed as possible, and ensure that it is fully \n",
       "functioning.\n",
       "                    Only return python code and nothing else\n",
       "\n",
       "                    The task is:\n",
       "                    Create a reminder system\n"
      ]
     },
     "metadata": {},
     "output_type": "display_data"
    },
    {
     "data": {
      "text/html": [
       "<pre style=\"white-space:pre;overflow-x:auto;line-height:normal;font-family:Menlo,'DejaVu Sans Mono',consolas,'Courier New',monospace\">Here is a Python code implementation of a basic reminder system:\n",
       "\n",
       "```python\n",
       "import time\n",
       "\n",
       "def <span style=\"color: #800080; text-decoration-color: #800080; font-weight: bold\">set_reminder</span><span style=\"font-weight: bold\">()</span>:\n",
       "    reminder_time = <span style=\"color: #800080; text-decoration-color: #800080; font-weight: bold\">input</span><span style=\"font-weight: bold\">(</span><span style=\"color: #008000; text-decoration-color: #008000\">\"Enter reminder time in format HH:MM:SS\\n\"</span><span style=\"font-weight: bold\">)</span>\n",
       "    reminder_note = <span style=\"color: #800080; text-decoration-color: #800080; font-weight: bold\">input</span><span style=\"font-weight: bold\">(</span><span style=\"color: #008000; text-decoration-color: #008000\">\"Enter reminder note\\n\"</span><span style=\"font-weight: bold\">)</span>\n",
       "    current_time = <span style=\"color: #800080; text-decoration-color: #800080; font-weight: bold\">time.strftime</span><span style=\"font-weight: bold\">(</span><span style=\"color: #008000; text-decoration-color: #008000\">\"%H:%M:%S\"</span><span style=\"font-weight: bold\">)</span>\n",
       "    \n",
       "    while current_time != reminder_time:\n",
       "        current_time = <span style=\"color: #800080; text-decoration-color: #800080; font-weight: bold\">time.strftime</span><span style=\"font-weight: bold\">(</span><span style=\"color: #008000; text-decoration-color: #008000\">\"%H:%M:%S\"</span><span style=\"font-weight: bold\">)</span>\n",
       "        <span style=\"color: #800080; text-decoration-color: #800080; font-weight: bold\">time.sleep</span><span style=\"font-weight: bold\">(</span><span style=\"color: #008080; text-decoration-color: #008080; font-weight: bold\">1</span><span style=\"font-weight: bold\">)</span>\n",
       "        \n",
       "    <span style=\"color: #800080; text-decoration-color: #800080; font-weight: bold\">print</span><span style=\"font-weight: bold\">(</span>reminder_note<span style=\"font-weight: bold\">)</span>\n",
       "    \n",
       "<span style=\"color: #800080; text-decoration-color: #800080; font-weight: bold\">set_reminder</span><span style=\"font-weight: bold\">()</span>\n",
       "\n",
       "```\n",
       "\n",
       "This code prompts the user to input a reminder time and note. It then continuously checks the current time until it\n",
       "matches the reminder time. Once the two times match, the reminder note is printed to the console. \n",
       "\n",
       "Note: This is just a basic implementation and can be further improved upon by adding features such as multiple \n",
       "reminders or the ability to schedule reminders for specific dates.\n",
       "</pre>\n"
      ],
      "text/plain": [
       "Here is a Python code implementation of a basic reminder system:\n",
       "\n",
       "```python\n",
       "import time\n",
       "\n",
       "def \u001b[1;35mset_reminder\u001b[0m\u001b[1m(\u001b[0m\u001b[1m)\u001b[0m:\n",
       "    reminder_time = \u001b[1;35minput\u001b[0m\u001b[1m(\u001b[0m\u001b[32m\"Enter reminder time in format HH:MM:SS\\n\"\u001b[0m\u001b[1m)\u001b[0m\n",
       "    reminder_note = \u001b[1;35minput\u001b[0m\u001b[1m(\u001b[0m\u001b[32m\"Enter reminder note\\n\"\u001b[0m\u001b[1m)\u001b[0m\n",
       "    current_time = \u001b[1;35mtime.strftime\u001b[0m\u001b[1m(\u001b[0m\u001b[32m\"%H:%M:%S\"\u001b[0m\u001b[1m)\u001b[0m\n",
       "    \n",
       "    while current_time != reminder_time:\n",
       "        current_time = \u001b[1;35mtime.strftime\u001b[0m\u001b[1m(\u001b[0m\u001b[32m\"%H:%M:%S\"\u001b[0m\u001b[1m)\u001b[0m\n",
       "        \u001b[1;35mtime.sleep\u001b[0m\u001b[1m(\u001b[0m\u001b[1;36m1\u001b[0m\u001b[1m)\u001b[0m\n",
       "        \n",
       "    \u001b[1;35mprint\u001b[0m\u001b[1m(\u001b[0mreminder_note\u001b[1m)\u001b[0m\n",
       "    \n",
       "\u001b[1;35mset_reminder\u001b[0m\u001b[1m(\u001b[0m\u001b[1m)\u001b[0m\n",
       "\n",
       "```\n",
       "\n",
       "This code prompts the user to input a reminder time and note. It then continuously checks the current time until it\n",
       "matches the reminder time. Once the two times match, the reminder note is printed to the console. \n",
       "\n",
       "Note: This is just a basic implementation and can be further improved upon by adding features such as multiple \n",
       "reminders or the ability to schedule reminders for specific dates.\n"
      ]
     },
     "metadata": {},
     "output_type": "display_data"
    },
    {
     "data": {
      "text/html": [
       "<pre style=\"white-space:pre;overflow-x:auto;line-height:normal;font-family:Menlo,'DejaVu Sans Mono',consolas,'Courier New',monospace\">=== Calling API ====\n",
       "</pre>\n"
      ],
      "text/plain": [
       "=== Calling API ====\n"
      ]
     },
     "metadata": {},
     "output_type": "display_data"
    },
    {
     "data": {
      "text/html": [
       "<pre style=\"white-space:pre;overflow-x:auto;line-height:normal;font-family:Menlo,'DejaVu Sans Mono',consolas,'Courier New',monospace\">PARAMS: \n",
       "<span style=\"font-weight: bold\">{</span>\n",
       "    <span style=\"color: #008000; text-decoration-color: #008000\">'code'</span>: <span style=\"color: #008000; text-decoration-color: #008000\">'Here is a Python code implementation of a basic reminder system:\\n\\n```python\\nimport time\\n\\ndef </span>\n",
       "<span style=\"color: #008000; text-decoration-color: #008000\">set_reminder():\\n    reminder_time = input(\"Enter reminder time in format HH:MM:SS\\\\n\")\\n    reminder_note = </span>\n",
       "<span style=\"color: #008000; text-decoration-color: #008000\">input(\"Enter reminder note\\\\n\")\\n    current_time = time.strftime(\"%H:%M:%S\")\\n    \\n    while current_time != </span>\n",
       "<span style=\"color: #008000; text-decoration-color: #008000\">reminder_time:\\n        current_time = time.strftime(\"%H:%M:%S\")\\n        time.sleep(1)\\n        \\n    </span>\n",
       "<span style=\"color: #008000; text-decoration-color: #008000\">print(reminder_note)\\n    \\nset_reminder()\\n\\n```\\n\\nThis code prompts the user to input a reminder time and note. </span>\n",
       "<span style=\"color: #008000; text-decoration-color: #008000\">It then continuously checks the current time until it matches the reminder time. Once the two times match, the </span>\n",
       "<span style=\"color: #008000; text-decoration-color: #008000\">reminder note is printed to the console. \\n\\nNote: This is just a basic implementation and can be further improved </span>\n",
       "<span style=\"color: #008000; text-decoration-color: #008000\">upon by adding features such as multiple reminders or the ability to schedule reminders for specific dates.'</span>\n",
       "<span style=\"font-weight: bold\">}</span>\n",
       "</pre>\n"
      ],
      "text/plain": [
       "PARAMS: \n",
       "\u001b[1m{\u001b[0m\n",
       "    \u001b[32m'code'\u001b[0m: \u001b[32m'Here is a Python code implementation of a basic reminder system:\\n\\n```python\\nimport time\\n\\ndef \u001b[0m\n",
       "\u001b[32mset_reminder\u001b[0m\u001b[32m(\u001b[0m\u001b[32m)\u001b[0m\u001b[32m:\\n    reminder_time = input\u001b[0m\u001b[32m(\u001b[0m\u001b[32m\"Enter reminder time in format HH:MM:SS\\\\n\"\u001b[0m\u001b[32m)\u001b[0m\u001b[32m\\n    reminder_note = \u001b[0m\n",
       "\u001b[32minput\u001b[0m\u001b[32m(\u001b[0m\u001b[32m\"Enter reminder note\\\\n\"\u001b[0m\u001b[32m)\u001b[0m\u001b[32m\\n    current_time = time.strftime\u001b[0m\u001b[32m(\u001b[0m\u001b[32m\"%H:%M:%S\"\u001b[0m\u001b[32m)\u001b[0m\u001b[32m\\n    \\n    while current_time != \u001b[0m\n",
       "\u001b[32mreminder_time:\\n        current_time = time.strftime\u001b[0m\u001b[32m(\u001b[0m\u001b[32m\"%H:%M:%S\"\u001b[0m\u001b[32m)\u001b[0m\u001b[32m\\n        time.sleep\u001b[0m\u001b[32m(\u001b[0m\u001b[32m1\u001b[0m\u001b[32m)\u001b[0m\u001b[32m\\n        \\n    \u001b[0m\n",
       "\u001b[32mprint\u001b[0m\u001b[32m(\u001b[0m\u001b[32mreminder_note\u001b[0m\u001b[32m)\u001b[0m\u001b[32m\\n    \\nset_reminder\u001b[0m\u001b[32m(\u001b[0m\u001b[32m)\u001b[0m\u001b[32m\\n\\n```\\n\\nThis code prompts the user to input a reminder time and note. \u001b[0m\n",
       "\u001b[32mIt then continuously checks the current time until it matches the reminder time. Once the two times match, the \u001b[0m\n",
       "\u001b[32mreminder note is printed to the console. \\n\\nNote: This is just a basic implementation and can be further improved \u001b[0m\n",
       "\u001b[32mupon by adding features such as multiple reminders or the ability to schedule reminders for specific dates.'\u001b[0m\n",
       "\u001b[1m}\u001b[0m\n"
      ]
     },
     "metadata": {},
     "output_type": "display_data"
    },
    {
     "data": {
      "text/html": [
       "<pre style=\"white-space:pre;overflow-x:auto;line-height:normal;font-family:Menlo,'DejaVu Sans Mono',consolas,'Courier New',monospace\"><span style=\"font-weight: bold\">{</span>\n",
       "    <span style=\"color: #008000; text-decoration-color: #008000\">\"new_method\"</span>: <span style=\"color: #008000; text-decoration-color: #008000\">\"import time\\n\\ndef set_reminder():\\n    reminder_time = input(\\\"Enter reminder time in format </span>\n",
       "<span style=\"color: #008000; text-decoration-color: #008000\">HH:MM:SS\\\\n\\\")\\n    reminder_note = input(\\\"Enter reminder note\\\\n\\\")\\n    current_time = </span>\n",
       "<span style=\"color: #008000; text-decoration-color: #008000\">time.strftime(\\\"%H:%M:%S\\\")\\n    \\n    while current_time != reminder_time:\\n        current_time = </span>\n",
       "<span style=\"color: #008000; text-decoration-color: #008000\">time.strftime(\\\"%H:%M:%S\\\")\\n        time.sleep(1)\\n        \\n    print(reminder_note)\\n    \"</span>,\n",
       "    <span style=\"color: #008000; text-decoration-color: #008000\">\"attach_method\"</span>: <span style=\"color: #008000; text-decoration-color: #008000\">\"def add_reminder(self):\\n    import time\\n    def set_reminder():\\n        reminder_time = </span>\n",
       "<span style=\"color: #008000; text-decoration-color: #008000\">input(\\\"Enter reminder time in format HH:MM:SS\\\\n\\\")\\n        reminder_note = input(\\\"Enter reminder note\\\\n\\\")\\n  </span>\n",
       "<span style=\"color: #008000; text-decoration-color: #008000\">current_time = time.strftime(\\\"%H:%M:%S\\\")\\n        \\n        while current_time != reminder_time:\\n            </span>\n",
       "<span style=\"color: #008000; text-decoration-color: #008000\">current_time = time.strftime(\\\"%H:%M:%S\\\")\\n            time.sleep(1)\\n            \\n        print(reminder_note)\\n</span>\n",
       "<span style=\"color: #008000; text-decoration-color: #008000\">setattr(self, 'set_reminder', set_reminder)\\n\"</span>\n",
       "<span style=\"font-weight: bold\">}</span>\n",
       "</pre>\n"
      ],
      "text/plain": [
       "\u001b[1m{\u001b[0m\n",
       "    \u001b[32m\"new_method\"\u001b[0m: \u001b[32m\"import time\\n\\ndef set_reminder\u001b[0m\u001b[32m(\u001b[0m\u001b[32m)\u001b[0m\u001b[32m:\\n    reminder_time = input\u001b[0m\u001b[32m(\u001b[0m\u001b[32m\\\"Enter reminder time in format \u001b[0m\n",
       "\u001b[32mHH:MM:SS\\\\n\\\"\u001b[0m\u001b[32m)\u001b[0m\u001b[32m\\n    reminder_note = input\u001b[0m\u001b[32m(\u001b[0m\u001b[32m\\\"Enter reminder note\\\\n\\\"\u001b[0m\u001b[32m)\u001b[0m\u001b[32m\\n    current_time = \u001b[0m\n",
       "\u001b[32mtime.strftime\u001b[0m\u001b[32m(\u001b[0m\u001b[32m\\\"%H:%M:%S\\\"\u001b[0m\u001b[32m)\u001b[0m\u001b[32m\\n    \\n    while current_time != reminder_time:\\n        current_time = \u001b[0m\n",
       "\u001b[32mtime.strftime\u001b[0m\u001b[32m(\u001b[0m\u001b[32m\\\"%H:%M:%S\\\"\u001b[0m\u001b[32m)\u001b[0m\u001b[32m\\n        time.sleep\u001b[0m\u001b[32m(\u001b[0m\u001b[32m1\u001b[0m\u001b[32m)\u001b[0m\u001b[32m\\n        \\n    print\u001b[0m\u001b[32m(\u001b[0m\u001b[32mreminder_note\u001b[0m\u001b[32m)\u001b[0m\u001b[32m\\n    \"\u001b[0m,\n",
       "    \u001b[32m\"attach_method\"\u001b[0m: \u001b[32m\"def add_reminder\u001b[0m\u001b[32m(\u001b[0m\u001b[32mself\u001b[0m\u001b[32m)\u001b[0m\u001b[32m:\\n    import time\\n    def set_reminder\u001b[0m\u001b[32m(\u001b[0m\u001b[32m)\u001b[0m\u001b[32m:\\n        reminder_time = \u001b[0m\n",
       "\u001b[32minput\u001b[0m\u001b[32m(\u001b[0m\u001b[32m\\\"Enter reminder time in format HH:MM:SS\\\\n\\\"\u001b[0m\u001b[32m)\u001b[0m\u001b[32m\\n        reminder_note = input\u001b[0m\u001b[32m(\u001b[0m\u001b[32m\\\"Enter reminder note\\\\n\\\"\u001b[0m\u001b[32m)\u001b[0m\u001b[32m\\n  \u001b[0m\n",
       "\u001b[32mcurrent_time = time.strftime\u001b[0m\u001b[32m(\u001b[0m\u001b[32m\\\"%H:%M:%S\\\"\u001b[0m\u001b[32m)\u001b[0m\u001b[32m\\n        \\n        while current_time != reminder_time:\\n            \u001b[0m\n",
       "\u001b[32mcurrent_time = time.strftime\u001b[0m\u001b[32m(\u001b[0m\u001b[32m\\\"%H:%M:%S\\\"\u001b[0m\u001b[32m)\u001b[0m\u001b[32m\\n            time.sleep\u001b[0m\u001b[32m(\u001b[0m\u001b[32m1\u001b[0m\u001b[32m)\u001b[0m\u001b[32m\\n            \\n        print\u001b[0m\u001b[32m(\u001b[0m\u001b[32mreminder_note\u001b[0m\u001b[32m)\u001b[0m\u001b[32m\\n\u001b[0m\n",
       "\u001b[32msetattr\u001b[0m\u001b[32m(\u001b[0m\u001b[32mself, 'set_reminder', set_reminder\u001b[0m\u001b[32m)\u001b[0m\u001b[32m\\n\"\u001b[0m\n",
       "\u001b[1m}\u001b[0m\n"
      ]
     },
     "metadata": {},
     "output_type": "display_data"
    },
    {
     "data": {
      "text/html": [
       "<pre style=\"white-space:pre;overflow-x:auto;line-height:normal;font-family:Menlo,'DejaVu Sans Mono',consolas,'Courier New',monospace\">=== Calling API ====\n",
       "</pre>\n"
      ],
      "text/plain": [
       "=== Calling API ====\n"
      ]
     },
     "metadata": {},
     "output_type": "display_data"
    },
    {
     "data": {
      "text/html": [
       "<pre style=\"white-space:pre;overflow-x:auto;line-height:normal;font-family:Menlo,'DejaVu Sans Mono',consolas,'Courier New',monospace\">PROMPT:  Based on a task, implement it in python code.\n",
       "                    Ensure that the implementation is as detailed as possible, and ensure that it is fully \n",
       "functioning.\n",
       "                    Only return python code and nothing else\n",
       "\n",
       "                    The task is:\n",
       "                    Implement notification system\n",
       "</pre>\n"
      ],
      "text/plain": [
       "PROMPT:  Based on a task, implement it in python code.\n",
       "                    Ensure that the implementation is as detailed as possible, and ensure that it is fully \n",
       "functioning.\n",
       "                    Only return python code and nothing else\n",
       "\n",
       "                    The task is:\n",
       "                    Implement notification system\n"
      ]
     },
     "metadata": {},
     "output_type": "display_data"
    },
    {
     "data": {
      "text/html": [
       "<pre style=\"white-space:pre;overflow-x:auto;line-height:normal;font-family:Menlo,'DejaVu Sans Mono',consolas,'Courier New',monospace\">Here is a possible implementation of a notification system in Python using the built-in `notify2` library:\n",
       "\n",
       "```python\n",
       "import notify2\n",
       "\n",
       "# Initialize the notify2 library\n",
       "<span style=\"color: #800080; text-decoration-color: #800080; font-weight: bold\">notify2.init</span><span style=\"font-weight: bold\">(</span><span style=\"color: #008000; text-decoration-color: #008000\">\"Notification System\"</span><span style=\"font-weight: bold\">)</span>\n",
       "\n",
       "class Notification:\n",
       "    def <span style=\"color: #800080; text-decoration-color: #800080; font-weight: bold\">__init__</span><span style=\"font-weight: bold\">(</span>self, title, message<span style=\"font-weight: bold\">)</span>:\n",
       "        self.title = title\n",
       "        self.message = message\n",
       "\n",
       "    def <span style=\"color: #800080; text-decoration-color: #800080; font-weight: bold\">send</span><span style=\"font-weight: bold\">(</span>self<span style=\"font-weight: bold\">)</span>:\n",
       "        # Create a notification object with the title and message\n",
       "        n = <span style=\"color: #800080; text-decoration-color: #800080; font-weight: bold\">notify2.Notification</span><span style=\"font-weight: bold\">(</span>self.title, self.message<span style=\"font-weight: bold\">)</span>\n",
       "\n",
       "        # Set the notification timeout to <span style=\"color: #008080; text-decoration-color: #008080; font-weight: bold\">5</span> seconds\n",
       "        <span style=\"color: #800080; text-decoration-color: #800080; font-weight: bold\">n.set_timeout</span><span style=\"font-weight: bold\">(</span><span style=\"color: #008080; text-decoration-color: #008080; font-weight: bold\">5000</span><span style=\"font-weight: bold\">)</span>\n",
       "\n",
       "        # Show the notification\n",
       "        <span style=\"color: #800080; text-decoration-color: #800080; font-weight: bold\">n.show</span><span style=\"font-weight: bold\">()</span>\n",
       "\n",
       "# Example usage:\n",
       "notification = <span style=\"color: #800080; text-decoration-color: #800080; font-weight: bold\">Notification</span><span style=\"font-weight: bold\">(</span><span style=\"color: #008000; text-decoration-color: #008000\">\"Hello World\"</span>, <span style=\"color: #008000; text-decoration-color: #008000\">\"This is a test notification\"</span><span style=\"font-weight: bold\">)</span>\n",
       "<span style=\"color: #800080; text-decoration-color: #800080; font-weight: bold\">notification.send</span><span style=\"font-weight: bold\">()</span>\n",
       "```\n",
       "\n",
       "This implementation defines a `Notification` class that takes in a title and message in its constructor. The `send`\n",
       "method creates a `notify2` notification object with the title and message and calls the `show` method to display \n",
       "the notification. The timeout is set to <span style=\"color: #008080; text-decoration-color: #008080; font-weight: bold\">5</span> seconds using the `set_timeout` method, but this can be adjusted as \n",
       "needed.\n",
       "\n",
       "Note that this implementation assumes that `notify2` is installed on the system. If it is not installed, it can be \n",
       "installed using `pip install notify2`.\n",
       "</pre>\n"
      ],
      "text/plain": [
       "Here is a possible implementation of a notification system in Python using the built-in `notify2` library:\n",
       "\n",
       "```python\n",
       "import notify2\n",
       "\n",
       "# Initialize the notify2 library\n",
       "\u001b[1;35mnotify2.init\u001b[0m\u001b[1m(\u001b[0m\u001b[32m\"Notification System\"\u001b[0m\u001b[1m)\u001b[0m\n",
       "\n",
       "class Notification:\n",
       "    def \u001b[1;35m__init__\u001b[0m\u001b[1m(\u001b[0mself, title, message\u001b[1m)\u001b[0m:\n",
       "        self.title = title\n",
       "        self.message = message\n",
       "\n",
       "    def \u001b[1;35msend\u001b[0m\u001b[1m(\u001b[0mself\u001b[1m)\u001b[0m:\n",
       "        # Create a notification object with the title and message\n",
       "        n = \u001b[1;35mnotify2.Notification\u001b[0m\u001b[1m(\u001b[0mself.title, self.message\u001b[1m)\u001b[0m\n",
       "\n",
       "        # Set the notification timeout to \u001b[1;36m5\u001b[0m seconds\n",
       "        \u001b[1;35mn.set_timeout\u001b[0m\u001b[1m(\u001b[0m\u001b[1;36m5000\u001b[0m\u001b[1m)\u001b[0m\n",
       "\n",
       "        # Show the notification\n",
       "        \u001b[1;35mn.show\u001b[0m\u001b[1m(\u001b[0m\u001b[1m)\u001b[0m\n",
       "\n",
       "# Example usage:\n",
       "notification = \u001b[1;35mNotification\u001b[0m\u001b[1m(\u001b[0m\u001b[32m\"Hello World\"\u001b[0m, \u001b[32m\"This is a test notification\"\u001b[0m\u001b[1m)\u001b[0m\n",
       "\u001b[1;35mnotification.send\u001b[0m\u001b[1m(\u001b[0m\u001b[1m)\u001b[0m\n",
       "```\n",
       "\n",
       "This implementation defines a `Notification` class that takes in a title and message in its constructor. The `send`\n",
       "method creates a `notify2` notification object with the title and message and calls the `show` method to display \n",
       "the notification. The timeout is set to \u001b[1;36m5\u001b[0m seconds using the `set_timeout` method, but this can be adjusted as \n",
       "needed.\n",
       "\n",
       "Note that this implementation assumes that `notify2` is installed on the system. If it is not installed, it can be \n",
       "installed using `pip install notify2`.\n"
      ]
     },
     "metadata": {},
     "output_type": "display_data"
    },
    {
     "data": {
      "text/html": [
       "<pre style=\"white-space:pre;overflow-x:auto;line-height:normal;font-family:Menlo,'DejaVu Sans Mono',consolas,'Courier New',monospace\">=== Calling API ====\n",
       "</pre>\n"
      ],
      "text/plain": [
       "=== Calling API ====\n"
      ]
     },
     "metadata": {},
     "output_type": "display_data"
    },
    {
     "data": {
      "text/html": [
       "<pre style=\"white-space:pre;overflow-x:auto;line-height:normal;font-family:Menlo,'DejaVu Sans Mono',consolas,'Courier New',monospace\">PARAMS: \n",
       "<span style=\"font-weight: bold\">{</span>\n",
       "    <span style=\"color: #008000; text-decoration-color: #008000\">'code'</span>: <span style=\"color: #008000; text-decoration-color: #008000\">'Here is a possible implementation of a notification system in Python using the built-in `notify2` </span>\n",
       "<span style=\"color: #008000; text-decoration-color: #008000\">library:\\n\\n```python\\nimport notify2\\n\\n# Initialize the notify2 library\\nnotify2.init(\"Notification </span>\n",
       "<span style=\"color: #008000; text-decoration-color: #008000\">System\")\\n\\nclass Notification:\\n    def __init__(self, title, message):\\n        self.title = title\\n        </span>\n",
       "<span style=\"color: #008000; text-decoration-color: #008000\">self.message = message\\n\\n    def send(self):\\n        # Create a notification object with the title and message\\n </span>\n",
       "<span style=\"color: #008000; text-decoration-color: #008000\">n = notify2.Notification(self.title, self.message)\\n\\n        # Set the notification timeout to 5 seconds\\n        </span>\n",
       "<span style=\"color: #008000; text-decoration-color: #008000\">n.set_timeout(5000)\\n\\n        # Show the notification\\n        n.show()\\n\\n# Example usage:\\nnotification = </span>\n",
       "<span style=\"color: #008000; text-decoration-color: #008000\">Notification(\"Hello World\", \"This is a test notification\")\\nnotification.send()\\n```\\n\\nThis implementation defines</span>\n",
       "<span style=\"color: #008000; text-decoration-color: #008000\">a `Notification` class that takes in a title and message in its constructor. The `send` method creates a `notify2` </span>\n",
       "<span style=\"color: #008000; text-decoration-color: #008000\">notification object with the title and message and calls the `show` method to display the notification. The timeout</span>\n",
       "<span style=\"color: #008000; text-decoration-color: #008000\">is set to 5 seconds using the `set_timeout` method, but this can be adjusted as needed.\\n\\nNote that this </span>\n",
       "<span style=\"color: #008000; text-decoration-color: #008000\">implementation assumes that `notify2` is installed on the system. If it is not installed, it can be installed using</span>\n",
       "<span style=\"color: #008000; text-decoration-color: #008000\">`pip install notify2`.'</span>\n",
       "<span style=\"font-weight: bold\">}</span>\n",
       "</pre>\n"
      ],
      "text/plain": [
       "PARAMS: \n",
       "\u001b[1m{\u001b[0m\n",
       "    \u001b[32m'code'\u001b[0m: \u001b[32m'Here is a possible implementation of a notification system in Python using the built-in `notify2` \u001b[0m\n",
       "\u001b[32mlibrary:\\n\\n```python\\nimport notify2\\n\\n# Initialize the notify2 library\\nnotify2.init\u001b[0m\u001b[32m(\u001b[0m\u001b[32m\"Notification \u001b[0m\n",
       "\u001b[32mSystem\"\u001b[0m\u001b[32m)\u001b[0m\u001b[32m\\n\\nclass Notification:\\n    def __init__\u001b[0m\u001b[32m(\u001b[0m\u001b[32mself, title, message\u001b[0m\u001b[32m)\u001b[0m\u001b[32m:\\n        self.title = title\\n        \u001b[0m\n",
       "\u001b[32mself.message = message\\n\\n    def send\u001b[0m\u001b[32m(\u001b[0m\u001b[32mself\u001b[0m\u001b[32m)\u001b[0m\u001b[32m:\\n        # Create a notification object with the title and message\\n \u001b[0m\n",
       "\u001b[32mn = notify2.Notification\u001b[0m\u001b[32m(\u001b[0m\u001b[32mself.title, self.message\u001b[0m\u001b[32m)\u001b[0m\u001b[32m\\n\\n        # Set the notification timeout to 5 seconds\\n        \u001b[0m\n",
       "\u001b[32mn.set_timeout\u001b[0m\u001b[32m(\u001b[0m\u001b[32m5000\u001b[0m\u001b[32m)\u001b[0m\u001b[32m\\n\\n        # Show the notification\\n        n.show\u001b[0m\u001b[32m(\u001b[0m\u001b[32m)\u001b[0m\u001b[32m\\n\\n# Example usage:\\nnotification = \u001b[0m\n",
       "\u001b[32mNotification\u001b[0m\u001b[32m(\u001b[0m\u001b[32m\"Hello World\", \"This is a test notification\"\u001b[0m\u001b[32m)\u001b[0m\u001b[32m\\nnotification.send\u001b[0m\u001b[32m(\u001b[0m\u001b[32m)\u001b[0m\u001b[32m\\n```\\n\\nThis implementation defines\u001b[0m\n",
       "\u001b[32ma `Notification` class that takes in a title and message in its constructor. The `send` method creates a `notify2` \u001b[0m\n",
       "\u001b[32mnotification object with the title and message and calls the `show` method to display the notification. The timeout\u001b[0m\n",
       "\u001b[32mis set to 5 seconds using the `set_timeout` method, but this can be adjusted as needed.\\n\\nNote that this \u001b[0m\n",
       "\u001b[32mimplementation assumes that `notify2` is installed on the system. If it is not installed, it can be installed using\u001b[0m\n",
       "\u001b[32m`pip install notify2`.'\u001b[0m\n",
       "\u001b[1m}\u001b[0m\n"
      ]
     },
     "metadata": {},
     "output_type": "display_data"
    },
    {
     "data": {
      "text/html": [
       "<pre style=\"white-space:pre;overflow-x:auto;line-height:normal;font-family:Menlo,'DejaVu Sans Mono',consolas,'Courier New',monospace\"><span style=\"font-weight: bold\">{</span>\n",
       "    <span style=\"color: #008000; text-decoration-color: #008000\">\"new_method\"</span>: <span style=\"color: #008000; text-decoration-color: #008000\">\"import notify2\\n\\ndef send_notification(title, message):\\n    notify2.init(\\\"Notification </span>\n",
       "<span style=\"color: #008000; text-decoration-color: #008000\">System\\\")\\n    n = notify2.Notification(title, message)\\n    n.set_timeout(5000)\\n    n.show()\\n\"</span>,\n",
       "    <span style=\"color: #008000; text-decoration-color: #008000\">\"attach_method\"</span>: <span style=\"color: #008000; text-decoration-color: #008000\">\"def add_notification(self, title, message):\\n    send_notification(title, message)\\n    \"</span>\n",
       "<span style=\"font-weight: bold\">}</span>\n",
       "</pre>\n"
      ],
      "text/plain": [
       "\u001b[1m{\u001b[0m\n",
       "    \u001b[32m\"new_method\"\u001b[0m: \u001b[32m\"import notify2\\n\\ndef send_notification\u001b[0m\u001b[32m(\u001b[0m\u001b[32mtitle, message\u001b[0m\u001b[32m)\u001b[0m\u001b[32m:\\n    notify2.init\u001b[0m\u001b[32m(\u001b[0m\u001b[32m\\\"Notification \u001b[0m\n",
       "\u001b[32mSystem\\\"\u001b[0m\u001b[32m)\u001b[0m\u001b[32m\\n    n = notify2.Notification\u001b[0m\u001b[32m(\u001b[0m\u001b[32mtitle, message\u001b[0m\u001b[32m)\u001b[0m\u001b[32m\\n    n.set_timeout\u001b[0m\u001b[32m(\u001b[0m\u001b[32m5000\u001b[0m\u001b[32m)\u001b[0m\u001b[32m\\n    n.show\u001b[0m\u001b[32m(\u001b[0m\u001b[32m)\u001b[0m\u001b[32m\\n\"\u001b[0m,\n",
       "    \u001b[32m\"attach_method\"\u001b[0m: \u001b[32m\"def add_notification\u001b[0m\u001b[32m(\u001b[0m\u001b[32mself, title, message\u001b[0m\u001b[32m)\u001b[0m\u001b[32m:\\n    send_notification\u001b[0m\u001b[32m(\u001b[0m\u001b[32mtitle, message\u001b[0m\u001b[32m)\u001b[0m\u001b[32m\\n    \"\u001b[0m\n",
       "\u001b[1m}\u001b[0m\n"
      ]
     },
     "metadata": {},
     "output_type": "display_data"
    },
    {
     "data": {
      "text/html": [
       "<pre style=\"white-space:pre;overflow-x:auto;line-height:normal;font-family:Menlo,'DejaVu Sans Mono',consolas,'Courier New',monospace\">Module not found: <span style=\"font-weight: bold\">&lt;</span><span style=\"color: #ff00ff; text-decoration-color: #ff00ff; font-weight: bold\">module</span><span style=\"font-weight: bold\">&gt;</span>\n",
       "</pre>\n"
      ],
      "text/plain": [
       "Module not found: \u001b[1m<\u001b[0m\u001b[1;95mmodule\u001b[0m\u001b[1m>\u001b[0m\n"
      ]
     },
     "metadata": {},
     "output_type": "display_data"
    },
    {
     "name": "stderr",
     "output_type": "stream",
     "text": [
      "\u001b[31mERROR: Invalid requirement: '<module>'\u001b[0m\u001b[31m\n",
      "\u001b[0m\n",
      "\u001b[1m[\u001b[0m\u001b[34;49mnotice\u001b[0m\u001b[1;39;49m]\u001b[0m\u001b[39;49m A new release of pip is available: \u001b[0m\u001b[31;49m23.0.1\u001b[0m\u001b[39;49m -> \u001b[0m\u001b[32;49m23.1.2\u001b[0m\n",
      "\u001b[1m[\u001b[0m\u001b[34;49mnotice\u001b[0m\u001b[1;39;49m]\u001b[0m\u001b[39;49m To update, run: \u001b[0m\u001b[32;49mpip install --upgrade pip\u001b[0m\n"
     ]
    },
    {
     "data": {
      "text/html": [
       "<pre style=\"white-space:pre;overflow-x:auto;line-height:normal;font-family:Menlo,'DejaVu Sans Mono',consolas,'Courier New',monospace\">Failed to install the module: Command <span style=\"color: #008000; text-decoration-color: #008000\">'['</span>pip', <span style=\"color: #008000; text-decoration-color: #008000\">'install'</span>, <span style=\"color: #008000; text-decoration-color: #008000\">'&lt;module&gt;'</span><span style=\"font-weight: bold\">]</span>' returned non-zero exit status <span style=\"color: #008080; text-decoration-color: #008080; font-weight: bold\">1</span>.\n",
       "</pre>\n"
      ],
      "text/plain": [
       "Failed to install the module: Command \u001b[32m'\u001b[0m\u001b[32m[\u001b[0m\u001b[32m'\u001b[0mpip', \u001b[32m'install'\u001b[0m, \u001b[32m'\u001b[0m\u001b[32m<\u001b[0m\u001b[32mmodule\u001b[0m\u001b[32m>\u001b[0m\u001b[32m'\u001b[0m\u001b[1m]\u001b[0m' returned non-zero exit status \u001b[1;36m1\u001b[0m.\n"
      ]
     },
     "metadata": {},
     "output_type": "display_data"
    },
    {
     "data": {
      "text/html": [
       "<pre style=\"white-space:pre;overflow-x:auto;line-height:normal;font-family:Menlo,'DejaVu Sans Mono',consolas,'Courier New',monospace\">=== Calling API ====\n",
       "</pre>\n"
      ],
      "text/plain": [
       "=== Calling API ====\n"
      ]
     },
     "metadata": {},
     "output_type": "display_data"
    },
    {
     "data": {
      "text/html": [
       "<pre style=\"white-space:pre;overflow-x:auto;line-height:normal;font-family:Menlo,'DejaVu Sans Mono',consolas,'Courier New',monospace\">PROMPT:  Based on a task, implement it in python code.\n",
       "                    Ensure that the implementation is as detailed as possible, and ensure that it is fully \n",
       "functioning.\n",
       "                    Only return python code and nothing else\n",
       "\n",
       "                    The task is:\n",
       "                    User interface to set and manage reminders\n",
       "</pre>\n"
      ],
      "text/plain": [
       "PROMPT:  Based on a task, implement it in python code.\n",
       "                    Ensure that the implementation is as detailed as possible, and ensure that it is fully \n",
       "functioning.\n",
       "                    Only return python code and nothing else\n",
       "\n",
       "                    The task is:\n",
       "                    User interface to set and manage reminders\n"
      ]
     },
     "metadata": {},
     "output_type": "display_data"
    },
    {
     "data": {
      "text/html": [
       "<pre style=\"white-space:pre;overflow-x:auto;line-height:normal;font-family:Menlo,'DejaVu Sans Mono',consolas,'Courier New',monospace\">Here is an example python code for a console-based user interface to set and manage reminders:\n",
       "\n",
       "```python\n",
       "import datetime\n",
       "\n",
       "reminders = <span style=\"font-weight: bold\">[]</span>\n",
       "\n",
       "def <span style=\"color: #800080; text-decoration-color: #800080; font-weight: bold\">add_reminder</span><span style=\"font-weight: bold\">()</span>:\n",
       "    description = <span style=\"color: #800080; text-decoration-color: #800080; font-weight: bold\">input</span><span style=\"font-weight: bold\">(</span><span style=\"color: #008000; text-decoration-color: #008000\">\"Enter a description for the reminder: \"</span><span style=\"font-weight: bold\">)</span>\n",
       "    year = <span style=\"color: #800080; text-decoration-color: #800080; font-weight: bold\">int</span><span style=\"font-weight: bold\">(</span><span style=\"color: #800080; text-decoration-color: #800080; font-weight: bold\">input</span><span style=\"font-weight: bold\">(</span><span style=\"color: #008000; text-decoration-color: #008000\">\"Enter the year for the reminder (e.g. 2022): \"</span><span style=\"font-weight: bold\">))</span>\n",
       "    month = <span style=\"color: #800080; text-decoration-color: #800080; font-weight: bold\">int</span><span style=\"font-weight: bold\">(</span><span style=\"color: #800080; text-decoration-color: #800080; font-weight: bold\">input</span><span style=\"font-weight: bold\">(</span><span style=\"color: #008000; text-decoration-color: #008000\">\"Enter the month for the reminder (1-12): \"</span><span style=\"font-weight: bold\">))</span>\n",
       "    day = <span style=\"color: #800080; text-decoration-color: #800080; font-weight: bold\">int</span><span style=\"font-weight: bold\">(</span><span style=\"color: #800080; text-decoration-color: #800080; font-weight: bold\">input</span><span style=\"font-weight: bold\">(</span><span style=\"color: #008000; text-decoration-color: #008000\">\"Enter the day for the reminder (1-31): \"</span><span style=\"font-weight: bold\">))</span>\n",
       "    hour = <span style=\"color: #800080; text-decoration-color: #800080; font-weight: bold\">int</span><span style=\"font-weight: bold\">(</span><span style=\"color: #800080; text-decoration-color: #800080; font-weight: bold\">input</span><span style=\"font-weight: bold\">(</span><span style=\"color: #008000; text-decoration-color: #008000\">\"Enter the hour for the reminder (0-23): \"</span><span style=\"font-weight: bold\">))</span>\n",
       "    minute = <span style=\"color: #800080; text-decoration-color: #800080; font-weight: bold\">int</span><span style=\"font-weight: bold\">(</span><span style=\"color: #800080; text-decoration-color: #800080; font-weight: bold\">input</span><span style=\"font-weight: bold\">(</span><span style=\"color: #008000; text-decoration-color: #008000\">\"Enter the minute for the reminder (0-59): \"</span><span style=\"font-weight: bold\">))</span>\n",
       "    date = <span style=\"color: #800080; text-decoration-color: #800080; font-weight: bold\">datetime.datetime</span><span style=\"font-weight: bold\">(</span>year, month, day, hour, minute<span style=\"font-weight: bold\">)</span>\n",
       "    <span style=\"color: #800080; text-decoration-color: #800080; font-weight: bold\">reminders.append</span><span style=\"font-weight: bold\">((</span>date, description<span style=\"font-weight: bold\">))</span>\n",
       "    <span style=\"color: #800080; text-decoration-color: #800080; font-weight: bold\">print</span><span style=\"font-weight: bold\">(</span><span style=\"color: #008000; text-decoration-color: #008000\">\"Reminder added successfully.\"</span><span style=\"font-weight: bold\">)</span>\n",
       "\n",
       "def <span style=\"color: #800080; text-decoration-color: #800080; font-weight: bold\">delete_reminder</span><span style=\"font-weight: bold\">()</span>:\n",
       "    index = <span style=\"color: #800080; text-decoration-color: #800080; font-weight: bold\">int</span><span style=\"font-weight: bold\">(</span><span style=\"color: #800080; text-decoration-color: #800080; font-weight: bold\">input</span><span style=\"font-weight: bold\">(</span><span style=\"color: #008000; text-decoration-color: #008000\">\"Enter the index of the reminder to delete: \"</span><span style=\"font-weight: bold\">))</span>\n",
       "    if index &gt;= <span style=\"color: #800080; text-decoration-color: #800080; font-weight: bold\">len</span><span style=\"font-weight: bold\">(</span>reminders<span style=\"font-weight: bold\">)</span>:\n",
       "        <span style=\"color: #800080; text-decoration-color: #800080; font-weight: bold\">print</span><span style=\"font-weight: bold\">(</span><span style=\"color: #008000; text-decoration-color: #008000\">\"Invalid index.\"</span><span style=\"font-weight: bold\">)</span>\n",
       "    else:\n",
       "        del reminders\n",
       "        <span style=\"color: #800080; text-decoration-color: #800080; font-weight: bold\">print</span><span style=\"font-weight: bold\">(</span><span style=\"color: #008000; text-decoration-color: #008000\">\"Reminder deleted successfully.\"</span><span style=\"font-weight: bold\">)</span>\n",
       "\n",
       "def <span style=\"color: #800080; text-decoration-color: #800080; font-weight: bold\">print_reminders</span><span style=\"font-weight: bold\">()</span>:\n",
       "    if not reminders:\n",
       "        <span style=\"color: #800080; text-decoration-color: #800080; font-weight: bold\">print</span><span style=\"font-weight: bold\">(</span><span style=\"color: #008000; text-decoration-color: #008000\">\"No reminders.\"</span><span style=\"font-weight: bold\">)</span>\n",
       "        return\n",
       "    <span style=\"color: #800080; text-decoration-color: #800080; font-weight: bold\">print</span><span style=\"font-weight: bold\">(</span><span style=\"color: #008000; text-decoration-color: #008000\">\"Current reminders:\"</span><span style=\"font-weight: bold\">)</span>\n",
       "    for i, reminder in <span style=\"color: #800080; text-decoration-color: #800080; font-weight: bold\">enumerate</span><span style=\"font-weight: bold\">(</span>reminders<span style=\"font-weight: bold\">)</span>:\n",
       "        date, description = reminder\n",
       "        <span style=\"color: #800080; text-decoration-color: #800080; font-weight: bold\">print</span><span style=\"font-weight: bold\">(</span>f\"<span style=\"font-weight: bold\">{</span>i<span style=\"font-weight: bold\">}</span>: <span style=\"font-weight: bold\">{</span>description<span style=\"font-weight: bold\">}</span> at <span style=\"font-weight: bold\">{</span>date<span style=\"font-weight: bold\">}</span>\"<span style=\"font-weight: bold\">)</span>\n",
       "\n",
       "def <span style=\"color: #800080; text-decoration-color: #800080; font-weight: bold\">main</span><span style=\"font-weight: bold\">()</span>:\n",
       "    <span style=\"color: #800080; text-decoration-color: #800080; font-weight: bold\">print</span><span style=\"font-weight: bold\">(</span><span style=\"color: #008000; text-decoration-color: #008000\">\"Welcome to the reminder app.\"</span><span style=\"font-weight: bold\">)</span>\n",
       "    while <span style=\"color: #00ff00; text-decoration-color: #00ff00; font-style: italic\">True</span>:\n",
       "        <span style=\"color: #800080; text-decoration-color: #800080; font-weight: bold\">print</span><span style=\"font-weight: bold\">(</span><span style=\"color: #008000; text-decoration-color: #008000\">\"-\"</span> * <span style=\"color: #008080; text-decoration-color: #008080; font-weight: bold\">20</span><span style=\"font-weight: bold\">)</span>\n",
       "        <span style=\"color: #800080; text-decoration-color: #800080; font-weight: bold\">print</span><span style=\"font-weight: bold\">(</span><span style=\"color: #008000; text-decoration-color: #008000\">\"Options:\"</span><span style=\"font-weight: bold\">)</span>\n",
       "        <span style=\"color: #800080; text-decoration-color: #800080; font-weight: bold\">print</span><span style=\"font-weight: bold\">(</span><span style=\"color: #008000; text-decoration-color: #008000\">\"1. Add a reminder\"</span><span style=\"font-weight: bold\">)</span>\n",
       "        <span style=\"color: #800080; text-decoration-color: #800080; font-weight: bold\">print</span><span style=\"font-weight: bold\">(</span><span style=\"color: #008000; text-decoration-color: #008000\">\"2. Delete a reminder\"</span><span style=\"font-weight: bold\">)</span>\n",
       "        <span style=\"color: #800080; text-decoration-color: #800080; font-weight: bold\">print</span><span style=\"font-weight: bold\">(</span><span style=\"color: #008000; text-decoration-color: #008000\">\"3. Print all reminders\"</span><span style=\"font-weight: bold\">)</span>\n",
       "        <span style=\"color: #800080; text-decoration-color: #800080; font-weight: bold\">print</span><span style=\"font-weight: bold\">(</span><span style=\"color: #008000; text-decoration-color: #008000\">\"4. Quit\"</span><span style=\"font-weight: bold\">)</span>\n",
       "        choice = <span style=\"color: #800080; text-decoration-color: #800080; font-weight: bold\">int</span><span style=\"font-weight: bold\">(</span><span style=\"color: #800080; text-decoration-color: #800080; font-weight: bold\">input</span><span style=\"font-weight: bold\">(</span><span style=\"color: #008000; text-decoration-color: #008000\">\"Enter your choice: \"</span><span style=\"font-weight: bold\">))</span>\n",
       "        if choice == <span style=\"color: #008080; text-decoration-color: #008080; font-weight: bold\">1</span>:\n",
       "            <span style=\"color: #800080; text-decoration-color: #800080; font-weight: bold\">add_reminder</span><span style=\"font-weight: bold\">()</span>\n",
       "        elif choice == <span style=\"color: #008080; text-decoration-color: #008080; font-weight: bold\">2</span>:\n",
       "            <span style=\"color: #800080; text-decoration-color: #800080; font-weight: bold\">delete_reminder</span><span style=\"font-weight: bold\">()</span>\n",
       "        elif choice == <span style=\"color: #008080; text-decoration-color: #008080; font-weight: bold\">3</span>:\n",
       "            <span style=\"color: #800080; text-decoration-color: #800080; font-weight: bold\">print_reminders</span><span style=\"font-weight: bold\">()</span>\n",
       "        elif choice == <span style=\"color: #008080; text-decoration-color: #008080; font-weight: bold\">4</span>:\n",
       "            break\n",
       "        else:\n",
       "            <span style=\"color: #800080; text-decoration-color: #800080; font-weight: bold\">print</span><span style=\"font-weight: bold\">(</span><span style=\"color: #008000; text-decoration-color: #008000\">\"Invalid choice.\"</span><span style=\"font-weight: bold\">)</span>\n",
       "\n",
       "if __name__ == <span style=\"color: #008000; text-decoration-color: #008000\">\"__main__\"</span>:\n",
       "    <span style=\"color: #800080; text-decoration-color: #800080; font-weight: bold\">main</span><span style=\"font-weight: bold\">()</span>\n",
       "```\n",
       "\n",
       "Note that this code uses a list to store the reminders, where each reminder is a tuple containing a `datetime` \n",
       "object and a description. The `add_reminder` function prompts the user for the details of the reminder and adds it \n",
       "to the list. The `delete_reminder` function prompts the user for the index of the reminder to delete and removes it\n",
       "from the list. The `print_reminders` function simply prints out all the reminders in the list. Finally, the `main` \n",
       "function displays a menu of options for the user to choose from, and calls the appropriate function based on the \n",
       "user's choice.\n",
       "</pre>\n"
      ],
      "text/plain": [
       "Here is an example python code for a console-based user interface to set and manage reminders:\n",
       "\n",
       "```python\n",
       "import datetime\n",
       "\n",
       "reminders = \u001b[1m[\u001b[0m\u001b[1m]\u001b[0m\n",
       "\n",
       "def \u001b[1;35madd_reminder\u001b[0m\u001b[1m(\u001b[0m\u001b[1m)\u001b[0m:\n",
       "    description = \u001b[1;35minput\u001b[0m\u001b[1m(\u001b[0m\u001b[32m\"Enter a description for the reminder: \"\u001b[0m\u001b[1m)\u001b[0m\n",
       "    year = \u001b[1;35mint\u001b[0m\u001b[1m(\u001b[0m\u001b[1;35minput\u001b[0m\u001b[1m(\u001b[0m\u001b[32m\"Enter the year for the reminder \u001b[0m\u001b[32m(\u001b[0m\u001b[32me.g. 2022\u001b[0m\u001b[32m)\u001b[0m\u001b[32m: \"\u001b[0m\u001b[1m)\u001b[0m\u001b[1m)\u001b[0m\n",
       "    month = \u001b[1;35mint\u001b[0m\u001b[1m(\u001b[0m\u001b[1;35minput\u001b[0m\u001b[1m(\u001b[0m\u001b[32m\"Enter the month for the reminder \u001b[0m\u001b[32m(\u001b[0m\u001b[32m1-12\u001b[0m\u001b[32m)\u001b[0m\u001b[32m: \"\u001b[0m\u001b[1m)\u001b[0m\u001b[1m)\u001b[0m\n",
       "    day = \u001b[1;35mint\u001b[0m\u001b[1m(\u001b[0m\u001b[1;35minput\u001b[0m\u001b[1m(\u001b[0m\u001b[32m\"Enter the day for the reminder \u001b[0m\u001b[32m(\u001b[0m\u001b[32m1-31\u001b[0m\u001b[32m)\u001b[0m\u001b[32m: \"\u001b[0m\u001b[1m)\u001b[0m\u001b[1m)\u001b[0m\n",
       "    hour = \u001b[1;35mint\u001b[0m\u001b[1m(\u001b[0m\u001b[1;35minput\u001b[0m\u001b[1m(\u001b[0m\u001b[32m\"Enter the hour for the reminder \u001b[0m\u001b[32m(\u001b[0m\u001b[32m0-23\u001b[0m\u001b[32m)\u001b[0m\u001b[32m: \"\u001b[0m\u001b[1m)\u001b[0m\u001b[1m)\u001b[0m\n",
       "    minute = \u001b[1;35mint\u001b[0m\u001b[1m(\u001b[0m\u001b[1;35minput\u001b[0m\u001b[1m(\u001b[0m\u001b[32m\"Enter the minute for the reminder \u001b[0m\u001b[32m(\u001b[0m\u001b[32m0-59\u001b[0m\u001b[32m)\u001b[0m\u001b[32m: \"\u001b[0m\u001b[1m)\u001b[0m\u001b[1m)\u001b[0m\n",
       "    date = \u001b[1;35mdatetime.datetime\u001b[0m\u001b[1m(\u001b[0myear, month, day, hour, minute\u001b[1m)\u001b[0m\n",
       "    \u001b[1;35mreminders.append\u001b[0m\u001b[1m(\u001b[0m\u001b[1m(\u001b[0mdate, description\u001b[1m)\u001b[0m\u001b[1m)\u001b[0m\n",
       "    \u001b[1;35mprint\u001b[0m\u001b[1m(\u001b[0m\u001b[32m\"Reminder added successfully.\"\u001b[0m\u001b[1m)\u001b[0m\n",
       "\n",
       "def \u001b[1;35mdelete_reminder\u001b[0m\u001b[1m(\u001b[0m\u001b[1m)\u001b[0m:\n",
       "    index = \u001b[1;35mint\u001b[0m\u001b[1m(\u001b[0m\u001b[1;35minput\u001b[0m\u001b[1m(\u001b[0m\u001b[32m\"Enter the index of the reminder to delete: \"\u001b[0m\u001b[1m)\u001b[0m\u001b[1m)\u001b[0m\n",
       "    if index >= \u001b[1;35mlen\u001b[0m\u001b[1m(\u001b[0mreminders\u001b[1m)\u001b[0m:\n",
       "        \u001b[1;35mprint\u001b[0m\u001b[1m(\u001b[0m\u001b[32m\"Invalid index.\"\u001b[0m\u001b[1m)\u001b[0m\n",
       "    else:\n",
       "        del reminders\n",
       "        \u001b[1;35mprint\u001b[0m\u001b[1m(\u001b[0m\u001b[32m\"Reminder deleted successfully.\"\u001b[0m\u001b[1m)\u001b[0m\n",
       "\n",
       "def \u001b[1;35mprint_reminders\u001b[0m\u001b[1m(\u001b[0m\u001b[1m)\u001b[0m:\n",
       "    if not reminders:\n",
       "        \u001b[1;35mprint\u001b[0m\u001b[1m(\u001b[0m\u001b[32m\"No reminders.\"\u001b[0m\u001b[1m)\u001b[0m\n",
       "        return\n",
       "    \u001b[1;35mprint\u001b[0m\u001b[1m(\u001b[0m\u001b[32m\"Current reminders:\"\u001b[0m\u001b[1m)\u001b[0m\n",
       "    for i, reminder in \u001b[1;35menumerate\u001b[0m\u001b[1m(\u001b[0mreminders\u001b[1m)\u001b[0m:\n",
       "        date, description = reminder\n",
       "        \u001b[1;35mprint\u001b[0m\u001b[1m(\u001b[0mf\"\u001b[1m{\u001b[0mi\u001b[1m}\u001b[0m: \u001b[1m{\u001b[0mdescription\u001b[1m}\u001b[0m at \u001b[1m{\u001b[0mdate\u001b[1m}\u001b[0m\"\u001b[1m)\u001b[0m\n",
       "\n",
       "def \u001b[1;35mmain\u001b[0m\u001b[1m(\u001b[0m\u001b[1m)\u001b[0m:\n",
       "    \u001b[1;35mprint\u001b[0m\u001b[1m(\u001b[0m\u001b[32m\"Welcome to the reminder app.\"\u001b[0m\u001b[1m)\u001b[0m\n",
       "    while \u001b[3;92mTrue\u001b[0m:\n",
       "        \u001b[1;35mprint\u001b[0m\u001b[1m(\u001b[0m\u001b[32m\"-\"\u001b[0m * \u001b[1;36m20\u001b[0m\u001b[1m)\u001b[0m\n",
       "        \u001b[1;35mprint\u001b[0m\u001b[1m(\u001b[0m\u001b[32m\"Options:\"\u001b[0m\u001b[1m)\u001b[0m\n",
       "        \u001b[1;35mprint\u001b[0m\u001b[1m(\u001b[0m\u001b[32m\"1. Add a reminder\"\u001b[0m\u001b[1m)\u001b[0m\n",
       "        \u001b[1;35mprint\u001b[0m\u001b[1m(\u001b[0m\u001b[32m\"2. Delete a reminder\"\u001b[0m\u001b[1m)\u001b[0m\n",
       "        \u001b[1;35mprint\u001b[0m\u001b[1m(\u001b[0m\u001b[32m\"3. Print all reminders\"\u001b[0m\u001b[1m)\u001b[0m\n",
       "        \u001b[1;35mprint\u001b[0m\u001b[1m(\u001b[0m\u001b[32m\"4. Quit\"\u001b[0m\u001b[1m)\u001b[0m\n",
       "        choice = \u001b[1;35mint\u001b[0m\u001b[1m(\u001b[0m\u001b[1;35minput\u001b[0m\u001b[1m(\u001b[0m\u001b[32m\"Enter your choice: \"\u001b[0m\u001b[1m)\u001b[0m\u001b[1m)\u001b[0m\n",
       "        if choice == \u001b[1;36m1\u001b[0m:\n",
       "            \u001b[1;35madd_reminder\u001b[0m\u001b[1m(\u001b[0m\u001b[1m)\u001b[0m\n",
       "        elif choice == \u001b[1;36m2\u001b[0m:\n",
       "            \u001b[1;35mdelete_reminder\u001b[0m\u001b[1m(\u001b[0m\u001b[1m)\u001b[0m\n",
       "        elif choice == \u001b[1;36m3\u001b[0m:\n",
       "            \u001b[1;35mprint_reminders\u001b[0m\u001b[1m(\u001b[0m\u001b[1m)\u001b[0m\n",
       "        elif choice == \u001b[1;36m4\u001b[0m:\n",
       "            break\n",
       "        else:\n",
       "            \u001b[1;35mprint\u001b[0m\u001b[1m(\u001b[0m\u001b[32m\"Invalid choice.\"\u001b[0m\u001b[1m)\u001b[0m\n",
       "\n",
       "if __name__ == \u001b[32m\"__main__\"\u001b[0m:\n",
       "    \u001b[1;35mmain\u001b[0m\u001b[1m(\u001b[0m\u001b[1m)\u001b[0m\n",
       "```\n",
       "\n",
       "Note that this code uses a list to store the reminders, where each reminder is a tuple containing a `datetime` \n",
       "object and a description. The `add_reminder` function prompts the user for the details of the reminder and adds it \n",
       "to the list. The `delete_reminder` function prompts the user for the index of the reminder to delete and removes it\n",
       "from the list. The `print_reminders` function simply prints out all the reminders in the list. Finally, the `main` \n",
       "function displays a menu of options for the user to choose from, and calls the appropriate function based on the \n",
       "user's choice.\n"
      ]
     },
     "metadata": {},
     "output_type": "display_data"
    },
    {
     "data": {
      "text/html": [
       "<pre style=\"white-space:pre;overflow-x:auto;line-height:normal;font-family:Menlo,'DejaVu Sans Mono',consolas,'Courier New',monospace\">=== Calling API ====\n",
       "</pre>\n"
      ],
      "text/plain": [
       "=== Calling API ====\n"
      ]
     },
     "metadata": {},
     "output_type": "display_data"
    },
    {
     "data": {
      "text/html": [
       "<pre style=\"white-space:pre;overflow-x:auto;line-height:normal;font-family:Menlo,'DejaVu Sans Mono',consolas,'Courier New',monospace\">PARAMS: \n",
       "<span style=\"font-weight: bold\">{</span>\n",
       "    <span style=\"color: #008000; text-decoration-color: #008000\">'code'</span>: <span style=\"color: #008000; text-decoration-color: #008000\">'Here is an example python code for a console-based user interface to set and manage </span>\n",
       "<span style=\"color: #008000; text-decoration-color: #008000\">reminders:\\n\\n```python\\nimport datetime\\n\\nreminders = []\\n\\ndef add_reminder():\\n    description = input(\"Enter a</span>\n",
       "<span style=\"color: #008000; text-decoration-color: #008000\">description for the reminder: \")\\n    year = int(input(\"Enter the year for the reminder (e.g. 2022): \"))\\n    month</span>\n",
       "<span style=\"color: #008000; text-decoration-color: #008000\">= int(input(\"Enter the month for the reminder (1-12): \"))\\n    day = int(input(\"Enter the day for the reminder </span>\n",
       "<span style=\"color: #008000; text-decoration-color: #008000\">(1-31): \"))\\n    hour = int(input(\"Enter the hour for the reminder (0-23): \"))\\n    minute = int(input(\"Enter the </span>\n",
       "<span style=\"color: #008000; text-decoration-color: #008000\">minute for the reminder (0-59): \"))\\n    date = datetime.datetime(year, month, day, hour, minute)\\n    </span>\n",
       "<span style=\"color: #008000; text-decoration-color: #008000\">reminders.append((date, description))\\n    print(\"Reminder added successfully.\")\\n\\ndef delete_reminder():\\n    </span>\n",
       "<span style=\"color: #008000; text-decoration-color: #008000\">index = int(input(\"Enter the index of the reminder to delete: \"))\\n    if index &gt;= len(reminders):\\n        </span>\n",
       "<span style=\"color: #008000; text-decoration-color: #008000\">print(\"Invalid index.\")\\n    else:\\n        del reminders[index]\\n        print(\"Reminder deleted </span>\n",
       "<span style=\"color: #008000; text-decoration-color: #008000\">successfully.\")\\n\\ndef print_reminders():\\n    if not reminders:\\n        print(\"No reminders.\")\\n        return\\n </span>\n",
       "<span style=\"color: #008000; text-decoration-color: #008000\">print(\"Current reminders:\")\\n    for i, reminder in enumerate(reminders):\\n        date, description = reminder\\n  </span>\n",
       "<span style=\"color: #008000; text-decoration-color: #008000\">print(f\"{i}: {description} at {date}\")\\n\\ndef main():\\n    print(\"Welcome to the reminder app.\")\\n    while True:\\n</span>\n",
       "<span style=\"color: #008000; text-decoration-color: #008000\">print(\"-\" * 20)\\n        print(\"Options:\")\\n        print(\"1. Add a reminder\")\\n        print(\"2. Delete a </span>\n",
       "<span style=\"color: #008000; text-decoration-color: #008000\">reminder\")\\n        print(\"3. Print all reminders\")\\n        print(\"4. Quit\")\\n        choice = int(input(\"Enter </span>\n",
       "<span style=\"color: #008000; text-decoration-color: #008000\">your choice: \"))\\n        if choice == 1:\\n            add_reminder()\\n        elif choice == 2:\\n            </span>\n",
       "<span style=\"color: #008000; text-decoration-color: #008000\">delete_reminder()\\n        elif choice == 3:\\n            print_reminders()\\n        elif choice == 4:\\n           </span>\n",
       "<span style=\"color: #008000; text-decoration-color: #008000\">break\\n        else:\\n            print(\"Invalid choice.\")\\n\\nif __name__ == \"__main__\":\\n    main()\\n```\\n\\nNote </span>\n",
       "<span style=\"color: #008000; text-decoration-color: #008000\">that this code uses a list to store the reminders, where each reminder is a tuple containing a `datetime` object </span>\n",
       "<span style=\"color: #008000; text-decoration-color: #008000\">and a description. The `add_reminder` function prompts the user for the details of the reminder and adds it to the </span>\n",
       "<span style=\"color: #008000; text-decoration-color: #008000\">list. The `delete_reminder` function prompts the user for the index of the reminder to delete and removes it from </span>\n",
       "<span style=\"color: #008000; text-decoration-color: #008000\">the list. The `print_reminders` function simply prints out all the reminders in the list. Finally, the `main` </span>\n",
       "<span style=\"color: #008000; text-decoration-color: #008000\">function displays a menu of options for the user to choose from, and calls the appropriate function based on the </span>\n",
       "<span style=\"color: #008000; text-decoration-color: #008000\">user\\'s choice.'</span>\n",
       "<span style=\"font-weight: bold\">}</span>\n",
       "</pre>\n"
      ],
      "text/plain": [
       "PARAMS: \n",
       "\u001b[1m{\u001b[0m\n",
       "    \u001b[32m'code'\u001b[0m: \u001b[32m'Here is an example python code for a console-based user interface to set and manage \u001b[0m\n",
       "\u001b[32mreminders:\\n\\n```python\\nimport datetime\\n\\nreminders = \u001b[0m\u001b[32m[\u001b[0m\u001b[32m]\u001b[0m\u001b[32m\\n\\ndef add_reminder\u001b[0m\u001b[32m(\u001b[0m\u001b[32m)\u001b[0m\u001b[32m:\\n    description = input\u001b[0m\u001b[32m(\u001b[0m\u001b[32m\"Enter a\u001b[0m\n",
       "\u001b[32mdescription for the reminder: \"\u001b[0m\u001b[32m)\u001b[0m\u001b[32m\\n    year = int\u001b[0m\u001b[32m(\u001b[0m\u001b[32minput\u001b[0m\u001b[32m(\u001b[0m\u001b[32m\"Enter the year for the reminder \u001b[0m\u001b[32m(\u001b[0m\u001b[32me.g. 2022\u001b[0m\u001b[32m)\u001b[0m\u001b[32m: \"\u001b[0m\u001b[32m)\u001b[0m\u001b[32m)\u001b[0m\u001b[32m\\n    month\u001b[0m\n",
       "\u001b[32m= int\u001b[0m\u001b[32m(\u001b[0m\u001b[32minput\u001b[0m\u001b[32m(\u001b[0m\u001b[32m\"Enter the month for the reminder \u001b[0m\u001b[32m(\u001b[0m\u001b[32m1-12\u001b[0m\u001b[32m)\u001b[0m\u001b[32m: \"\u001b[0m\u001b[32m)\u001b[0m\u001b[32m)\u001b[0m\u001b[32m\\n    day = int\u001b[0m\u001b[32m(\u001b[0m\u001b[32minput\u001b[0m\u001b[32m(\u001b[0m\u001b[32m\"Enter the day for the reminder \u001b[0m\n",
       "\u001b[32m(\u001b[0m\u001b[32m1-31\u001b[0m\u001b[32m)\u001b[0m\u001b[32m: \"\u001b[0m\u001b[32m)\u001b[0m\u001b[32m)\u001b[0m\u001b[32m\\n    hour = int\u001b[0m\u001b[32m(\u001b[0m\u001b[32minput\u001b[0m\u001b[32m(\u001b[0m\u001b[32m\"Enter the hour for the reminder \u001b[0m\u001b[32m(\u001b[0m\u001b[32m0-23\u001b[0m\u001b[32m)\u001b[0m\u001b[32m: \"\u001b[0m\u001b[32m)\u001b[0m\u001b[32m)\u001b[0m\u001b[32m\\n    minute = int\u001b[0m\u001b[32m(\u001b[0m\u001b[32minput\u001b[0m\u001b[32m(\u001b[0m\u001b[32m\"Enter the \u001b[0m\n",
       "\u001b[32mminute for the reminder \u001b[0m\u001b[32m(\u001b[0m\u001b[32m0-59\u001b[0m\u001b[32m)\u001b[0m\u001b[32m: \"\u001b[0m\u001b[32m)\u001b[0m\u001b[32m)\u001b[0m\u001b[32m\\n    date = datetime.datetime\u001b[0m\u001b[32m(\u001b[0m\u001b[32myear, month, day, hour, minute\u001b[0m\u001b[32m)\u001b[0m\u001b[32m\\n    \u001b[0m\n",
       "\u001b[32mreminders.append\u001b[0m\u001b[32m(\u001b[0m\u001b[32m(\u001b[0m\u001b[32mdate, description\u001b[0m\u001b[32m)\u001b[0m\u001b[32m)\u001b[0m\u001b[32m\\n    print\u001b[0m\u001b[32m(\u001b[0m\u001b[32m\"Reminder added successfully.\"\u001b[0m\u001b[32m)\u001b[0m\u001b[32m\\n\\ndef delete_reminder\u001b[0m\u001b[32m(\u001b[0m\u001b[32m)\u001b[0m\u001b[32m:\\n    \u001b[0m\n",
       "\u001b[32mindex = int\u001b[0m\u001b[32m(\u001b[0m\u001b[32minput\u001b[0m\u001b[32m(\u001b[0m\u001b[32m\"Enter the index of the reminder to delete: \"\u001b[0m\u001b[32m)\u001b[0m\u001b[32m)\u001b[0m\u001b[32m\\n    if index >= len\u001b[0m\u001b[32m(\u001b[0m\u001b[32mreminders\u001b[0m\u001b[32m)\u001b[0m\u001b[32m:\\n        \u001b[0m\n",
       "\u001b[32mprint\u001b[0m\u001b[32m(\u001b[0m\u001b[32m\"Invalid index.\"\u001b[0m\u001b[32m)\u001b[0m\u001b[32m\\n    else:\\n        del reminders\u001b[0m\u001b[32m[\u001b[0m\u001b[32mindex\u001b[0m\u001b[32m]\u001b[0m\u001b[32m\\n        print\u001b[0m\u001b[32m(\u001b[0m\u001b[32m\"Reminder deleted \u001b[0m\n",
       "\u001b[32msuccessfully.\"\u001b[0m\u001b[32m)\u001b[0m\u001b[32m\\n\\ndef print_reminders\u001b[0m\u001b[32m(\u001b[0m\u001b[32m)\u001b[0m\u001b[32m:\\n    if not reminders:\\n        print\u001b[0m\u001b[32m(\u001b[0m\u001b[32m\"No reminders.\"\u001b[0m\u001b[32m)\u001b[0m\u001b[32m\\n        return\\n \u001b[0m\n",
       "\u001b[32mprint\u001b[0m\u001b[32m(\u001b[0m\u001b[32m\"Current reminders:\"\u001b[0m\u001b[32m)\u001b[0m\u001b[32m\\n    for i, reminder in enumerate\u001b[0m\u001b[32m(\u001b[0m\u001b[32mreminders\u001b[0m\u001b[32m)\u001b[0m\u001b[32m:\\n        date, description = reminder\\n  \u001b[0m\n",
       "\u001b[32mprint\u001b[0m\u001b[32m(\u001b[0m\u001b[32mf\"\u001b[0m\u001b[32m{\u001b[0m\u001b[32mi\u001b[0m\u001b[32m}\u001b[0m\u001b[32m: \u001b[0m\u001b[32m{\u001b[0m\u001b[32mdescription\u001b[0m\u001b[32m}\u001b[0m\u001b[32m at \u001b[0m\u001b[32m{\u001b[0m\u001b[32mdate\u001b[0m\u001b[32m}\u001b[0m\u001b[32m\"\u001b[0m\u001b[32m)\u001b[0m\u001b[32m\\n\\ndef main\u001b[0m\u001b[32m(\u001b[0m\u001b[32m)\u001b[0m\u001b[32m:\\n    print\u001b[0m\u001b[32m(\u001b[0m\u001b[32m\"Welcome to the reminder app.\"\u001b[0m\u001b[32m)\u001b[0m\u001b[32m\\n    while True:\\n\u001b[0m\n",
       "\u001b[32mprint\u001b[0m\u001b[32m(\u001b[0m\u001b[32m\"-\" * 20\u001b[0m\u001b[32m)\u001b[0m\u001b[32m\\n        print\u001b[0m\u001b[32m(\u001b[0m\u001b[32m\"Options:\"\u001b[0m\u001b[32m)\u001b[0m\u001b[32m\\n        print\u001b[0m\u001b[32m(\u001b[0m\u001b[32m\"1. Add a reminder\"\u001b[0m\u001b[32m)\u001b[0m\u001b[32m\\n        print\u001b[0m\u001b[32m(\u001b[0m\u001b[32m\"2. Delete a \u001b[0m\n",
       "\u001b[32mreminder\"\u001b[0m\u001b[32m)\u001b[0m\u001b[32m\\n        print\u001b[0m\u001b[32m(\u001b[0m\u001b[32m\"3. Print all reminders\"\u001b[0m\u001b[32m)\u001b[0m\u001b[32m\\n        print\u001b[0m\u001b[32m(\u001b[0m\u001b[32m\"4. Quit\"\u001b[0m\u001b[32m)\u001b[0m\u001b[32m\\n        choice = int\u001b[0m\u001b[32m(\u001b[0m\u001b[32minput\u001b[0m\u001b[32m(\u001b[0m\u001b[32m\"Enter \u001b[0m\n",
       "\u001b[32myour choice: \"\u001b[0m\u001b[32m)\u001b[0m\u001b[32m)\u001b[0m\u001b[32m\\n        if choice == 1:\\n            add_reminder\u001b[0m\u001b[32m(\u001b[0m\u001b[32m)\u001b[0m\u001b[32m\\n        elif choice == 2:\\n            \u001b[0m\n",
       "\u001b[32mdelete_reminder\u001b[0m\u001b[32m(\u001b[0m\u001b[32m)\u001b[0m\u001b[32m\\n        elif choice == 3:\\n            print_reminders\u001b[0m\u001b[32m(\u001b[0m\u001b[32m)\u001b[0m\u001b[32m\\n        elif choice == 4:\\n           \u001b[0m\n",
       "\u001b[32mbreak\\n        else:\\n            print\u001b[0m\u001b[32m(\u001b[0m\u001b[32m\"Invalid choice.\"\u001b[0m\u001b[32m)\u001b[0m\u001b[32m\\n\\nif __name__ == \"__main__\":\\n    main\u001b[0m\u001b[32m(\u001b[0m\u001b[32m)\u001b[0m\u001b[32m\\n```\\n\\nNote \u001b[0m\n",
       "\u001b[32mthat this code uses a list to store the reminders, where each reminder is a tuple containing a `datetime` object \u001b[0m\n",
       "\u001b[32mand a description. The `add_reminder` function prompts the user for the details of the reminder and adds it to the \u001b[0m\n",
       "\u001b[32mlist. The `delete_reminder` function prompts the user for the index of the reminder to delete and removes it from \u001b[0m\n",
       "\u001b[32mthe list. The `print_reminders` function simply prints out all the reminders in the list. Finally, the `main` \u001b[0m\n",
       "\u001b[32mfunction displays a menu of options for the user to choose from, and calls the appropriate function based on the \u001b[0m\n",
       "\u001b[32muser\\'s choice.'\u001b[0m\n",
       "\u001b[1m}\u001b[0m\n"
      ]
     },
     "metadata": {},
     "output_type": "display_data"
    },
    {
     "data": {
      "text/html": [
       "<pre style=\"white-space:pre;overflow-x:auto;line-height:normal;font-family:Menlo,'DejaVu Sans Mono',consolas,'Courier New',monospace\"><span style=\"font-weight: bold\">{</span>\n",
       "    <span style=\"color: #008000; text-decoration-color: #008000\">\"new_method\"</span>: <span style=\"color: #008000; text-decoration-color: #008000\">\"import datetime\\n\\nreminders = []\\n\\ndef add_reminder():\\n    description = input(\\\"Enter a </span>\n",
       "<span style=\"color: #008000; text-decoration-color: #008000\">description for the reminder: \\\")\\n    year = int(input(\\\"Enter the year for the reminder (e.g. 2022): \\\"))\\n    </span>\n",
       "<span style=\"color: #008000; text-decoration-color: #008000\">month = int(input(\\\"Enter the month for the reminder (1-12): \\\"))\\n    day = int(input(\\\"Enter the day for the </span>\n",
       "<span style=\"color: #008000; text-decoration-color: #008000\">reminder (1-31): \\\"))\\n    hour = int(input(\\\"Enter the hour for the reminder (0-23): \\\"))\\n    minute = </span>\n",
       "<span style=\"color: #008000; text-decoration-color: #008000\">int(input(\\\"Enter the minute for the reminder (0-59): \\\"))\\n    date = datetime.datetime(year, month, day, hour, </span>\n",
       "<span style=\"color: #008000; text-decoration-color: #008000\">minute)\\n    reminders.append((date, description))\\n    print(\\\"Reminder added successfully.\\\")\\n\\ndef </span>\n",
       "<span style=\"color: #008000; text-decoration-color: #008000\">delete_reminder():\\n    index = int(input(\\\"Enter the index of the reminder to delete: \\\"))\\n    if index &gt;= </span>\n",
       "<span style=\"color: #008000; text-decoration-color: #008000\">len(reminders):\\n        print(\\\"Invalid index.\\\")\\n    else:\\n        del reminders\\n        print(\\\"Reminder </span>\n",
       "<span style=\"color: #008000; text-decoration-color: #008000\">deleted successfully.\\\")\\n\\ndef print_reminders():\\n    if not reminders:\\n        print(\\\"No reminders.\\\")\\n      </span>\n",
       "<span style=\"color: #008000; text-decoration-color: #008000\">return\\n    print(\\\"Current reminders:\\\")\\n    for i, reminder in enumerate(reminders):\\n        date, description </span>\n",
       "<span style=\"color: #008000; text-decoration-color: #008000\">= reminder\\n        print(f\\\"{i}: {description} at {date}\\\")\\n\\ndef main():\\n    print(\\\"Welcome to the reminder </span>\n",
       "<span style=\"color: #008000; text-decoration-color: #008000\">app.\\\")\\n    while True:\\n        print(\\\"-\\\" * 20)\\n        print(\\\"Options:\\\")\\n        print(\\\"1. Add a </span>\n",
       "<span style=\"color: #008000; text-decoration-color: #008000\">reminder\\\")\\n        print(\\\"2. Delete a reminder\\\")\\n        print(\\\"3. Print all reminders\\\")\\n        print(\\\"4.</span>\n",
       "<span style=\"color: #008000; text-decoration-color: #008000\">Quit\\\")\\n        choice = int(input(\\\"Enter your choice: \\\"))\\n        if choice == 1:\\n            </span>\n",
       "<span style=\"color: #008000; text-decoration-color: #008000\">add_reminder()\\n        elif choice == 2:\\n            delete_reminder()\\n        elif choice == 3:\\n            </span>\n",
       "<span style=\"color: #008000; text-decoration-color: #008000\">print_reminders()\\n        elif choice == 4:\\n            break\\n        else:\\n            print(\\\"Invalid </span>\n",
       "<span style=\"color: #008000; text-decoration-color: #008000\">choice.\\\")\\n\\nif __name__ == \\\"__main__\\\":\\n    main()\"</span>,\n",
       "    <span style=\"color: #008000; text-decoration-color: #008000\">\"attach_method\"</span>: <span style=\"color: #008000; text-decoration-color: #008000\">\"setattr(self, 'add_reminder', add_reminder)\\nsetattr(self, 'delete_reminder', </span>\n",
       "<span style=\"color: #008000; text-decoration-color: #008000\">delete_reminder)\\nsetattr(self, 'print_reminders', print_reminders)\\n\"</span>\n",
       "<span style=\"font-weight: bold\">}</span>\n",
       "</pre>\n"
      ],
      "text/plain": [
       "\u001b[1m{\u001b[0m\n",
       "    \u001b[32m\"new_method\"\u001b[0m: \u001b[32m\"import datetime\\n\\nreminders = \u001b[0m\u001b[32m[\u001b[0m\u001b[32m]\u001b[0m\u001b[32m\\n\\ndef add_reminder\u001b[0m\u001b[32m(\u001b[0m\u001b[32m)\u001b[0m\u001b[32m:\\n    description = input\u001b[0m\u001b[32m(\u001b[0m\u001b[32m\\\"Enter a \u001b[0m\n",
       "\u001b[32mdescription for the reminder: \\\"\u001b[0m\u001b[32m)\u001b[0m\u001b[32m\\n    year = int\u001b[0m\u001b[32m(\u001b[0m\u001b[32minput\u001b[0m\u001b[32m(\u001b[0m\u001b[32m\\\"Enter the year for the reminder \u001b[0m\u001b[32m(\u001b[0m\u001b[32me.g. 2022\u001b[0m\u001b[32m)\u001b[0m\u001b[32m: \\\"\u001b[0m\u001b[32m)\u001b[0m\u001b[32m)\u001b[0m\u001b[32m\\n    \u001b[0m\n",
       "\u001b[32mmonth = int\u001b[0m\u001b[32m(\u001b[0m\u001b[32minput\u001b[0m\u001b[32m(\u001b[0m\u001b[32m\\\"Enter the month for the reminder \u001b[0m\u001b[32m(\u001b[0m\u001b[32m1-12\u001b[0m\u001b[32m)\u001b[0m\u001b[32m: \\\"\u001b[0m\u001b[32m)\u001b[0m\u001b[32m)\u001b[0m\u001b[32m\\n    day = int\u001b[0m\u001b[32m(\u001b[0m\u001b[32minput\u001b[0m\u001b[32m(\u001b[0m\u001b[32m\\\"Enter the day for the \u001b[0m\n",
       "\u001b[32mreminder \u001b[0m\u001b[32m(\u001b[0m\u001b[32m1-31\u001b[0m\u001b[32m)\u001b[0m\u001b[32m: \\\"\u001b[0m\u001b[32m)\u001b[0m\u001b[32m)\u001b[0m\u001b[32m\\n    hour = int\u001b[0m\u001b[32m(\u001b[0m\u001b[32minput\u001b[0m\u001b[32m(\u001b[0m\u001b[32m\\\"Enter the hour for the reminder \u001b[0m\u001b[32m(\u001b[0m\u001b[32m0-23\u001b[0m\u001b[32m)\u001b[0m\u001b[32m: \\\"\u001b[0m\u001b[32m)\u001b[0m\u001b[32m)\u001b[0m\u001b[32m\\n    minute = \u001b[0m\n",
       "\u001b[32mint\u001b[0m\u001b[32m(\u001b[0m\u001b[32minput\u001b[0m\u001b[32m(\u001b[0m\u001b[32m\\\"Enter the minute for the reminder \u001b[0m\u001b[32m(\u001b[0m\u001b[32m0-59\u001b[0m\u001b[32m)\u001b[0m\u001b[32m: \\\"\u001b[0m\u001b[32m)\u001b[0m\u001b[32m)\u001b[0m\u001b[32m\\n    date = datetime.datetime\u001b[0m\u001b[32m(\u001b[0m\u001b[32myear, month, day, hour, \u001b[0m\n",
       "\u001b[32mminute\u001b[0m\u001b[32m)\u001b[0m\u001b[32m\\n    reminders.append\u001b[0m\u001b[32m(\u001b[0m\u001b[32m(\u001b[0m\u001b[32mdate, description\u001b[0m\u001b[32m)\u001b[0m\u001b[32m)\u001b[0m\u001b[32m\\n    print\u001b[0m\u001b[32m(\u001b[0m\u001b[32m\\\"Reminder added successfully.\\\"\u001b[0m\u001b[32m)\u001b[0m\u001b[32m\\n\\ndef \u001b[0m\n",
       "\u001b[32mdelete_reminder\u001b[0m\u001b[32m(\u001b[0m\u001b[32m)\u001b[0m\u001b[32m:\\n    index = int\u001b[0m\u001b[32m(\u001b[0m\u001b[32minput\u001b[0m\u001b[32m(\u001b[0m\u001b[32m\\\"Enter the index of the reminder to delete: \\\"\u001b[0m\u001b[32m)\u001b[0m\u001b[32m)\u001b[0m\u001b[32m\\n    if index >= \u001b[0m\n",
       "\u001b[32mlen\u001b[0m\u001b[32m(\u001b[0m\u001b[32mreminders\u001b[0m\u001b[32m)\u001b[0m\u001b[32m:\\n        print\u001b[0m\u001b[32m(\u001b[0m\u001b[32m\\\"Invalid index.\\\"\u001b[0m\u001b[32m)\u001b[0m\u001b[32m\\n    else:\\n        del reminders\u001b[0m\u001b[32m\\n        print\u001b[0m\u001b[32m(\u001b[0m\u001b[32m\\\"Reminder \u001b[0m\n",
       "\u001b[32mdeleted successfully.\\\"\u001b[0m\u001b[32m)\u001b[0m\u001b[32m\\n\\ndef print_reminders\u001b[0m\u001b[32m(\u001b[0m\u001b[32m)\u001b[0m\u001b[32m:\\n    if not reminders:\\n        print\u001b[0m\u001b[32m(\u001b[0m\u001b[32m\\\"No reminders.\\\"\u001b[0m\u001b[32m)\u001b[0m\u001b[32m\\n      \u001b[0m\n",
       "\u001b[32mreturn\\n    print\u001b[0m\u001b[32m(\u001b[0m\u001b[32m\\\"Current reminders:\\\"\u001b[0m\u001b[32m)\u001b[0m\u001b[32m\\n    for i, reminder in enumerate\u001b[0m\u001b[32m(\u001b[0m\u001b[32mreminders\u001b[0m\u001b[32m)\u001b[0m\u001b[32m:\\n        date, description \u001b[0m\n",
       "\u001b[32m= reminder\\n        print\u001b[0m\u001b[32m(\u001b[0m\u001b[32mf\\\"\u001b[0m\u001b[32m{\u001b[0m\u001b[32mi\u001b[0m\u001b[32m}\u001b[0m\u001b[32m: \u001b[0m\u001b[32m{\u001b[0m\u001b[32mdescription\u001b[0m\u001b[32m}\u001b[0m\u001b[32m at \u001b[0m\u001b[32m{\u001b[0m\u001b[32mdate\u001b[0m\u001b[32m}\u001b[0m\u001b[32m\\\"\u001b[0m\u001b[32m)\u001b[0m\u001b[32m\\n\\ndef main\u001b[0m\u001b[32m(\u001b[0m\u001b[32m)\u001b[0m\u001b[32m:\\n    print\u001b[0m\u001b[32m(\u001b[0m\u001b[32m\\\"Welcome to the reminder \u001b[0m\n",
       "\u001b[32mapp.\\\"\u001b[0m\u001b[32m)\u001b[0m\u001b[32m\\n    while True:\\n        print\u001b[0m\u001b[32m(\u001b[0m\u001b[32m\\\"-\\\" * 20\u001b[0m\u001b[32m)\u001b[0m\u001b[32m\\n        print\u001b[0m\u001b[32m(\u001b[0m\u001b[32m\\\"Options:\\\"\u001b[0m\u001b[32m)\u001b[0m\u001b[32m\\n        print\u001b[0m\u001b[32m(\u001b[0m\u001b[32m\\\"1. Add a \u001b[0m\n",
       "\u001b[32mreminder\\\"\u001b[0m\u001b[32m)\u001b[0m\u001b[32m\\n        print\u001b[0m\u001b[32m(\u001b[0m\u001b[32m\\\"2. Delete a reminder\\\"\u001b[0m\u001b[32m)\u001b[0m\u001b[32m\\n        print\u001b[0m\u001b[32m(\u001b[0m\u001b[32m\\\"3. Print all reminders\\\"\u001b[0m\u001b[32m)\u001b[0m\u001b[32m\\n        print\u001b[0m\u001b[32m(\u001b[0m\u001b[32m\\\"4.\u001b[0m\n",
       "\u001b[32mQuit\\\"\u001b[0m\u001b[32m)\u001b[0m\u001b[32m\\n        choice = int\u001b[0m\u001b[32m(\u001b[0m\u001b[32minput\u001b[0m\u001b[32m(\u001b[0m\u001b[32m\\\"Enter your choice: \\\"\u001b[0m\u001b[32m)\u001b[0m\u001b[32m)\u001b[0m\u001b[32m\\n        if choice == 1:\\n            \u001b[0m\n",
       "\u001b[32madd_reminder\u001b[0m\u001b[32m(\u001b[0m\u001b[32m)\u001b[0m\u001b[32m\\n        elif choice == 2:\\n            delete_reminder\u001b[0m\u001b[32m(\u001b[0m\u001b[32m)\u001b[0m\u001b[32m\\n        elif choice == 3:\\n            \u001b[0m\n",
       "\u001b[32mprint_reminders\u001b[0m\u001b[32m(\u001b[0m\u001b[32m)\u001b[0m\u001b[32m\\n        elif choice == 4:\\n            break\\n        else:\\n            print\u001b[0m\u001b[32m(\u001b[0m\u001b[32m\\\"Invalid \u001b[0m\n",
       "\u001b[32mchoice.\\\"\u001b[0m\u001b[32m)\u001b[0m\u001b[32m\\n\\nif __name__ == \\\"__main__\\\":\\n    main\u001b[0m\u001b[32m(\u001b[0m\u001b[32m)\u001b[0m\u001b[32m\"\u001b[0m,\n",
       "    \u001b[32m\"attach_method\"\u001b[0m: \u001b[32m\"setattr\u001b[0m\u001b[32m(\u001b[0m\u001b[32mself, 'add_reminder', add_reminder\u001b[0m\u001b[32m)\u001b[0m\u001b[32m\\nsetattr\u001b[0m\u001b[32m(\u001b[0m\u001b[32mself, 'delete_reminder', \u001b[0m\n",
       "\u001b[32mdelete_reminder\u001b[0m\u001b[32m)\u001b[0m\u001b[32m\\nsetattr\u001b[0m\u001b[32m(\u001b[0m\u001b[32mself, 'print_reminders', print_reminders\u001b[0m\u001b[32m)\u001b[0m\u001b[32m\\n\"\u001b[0m\n",
       "\u001b[1m}\u001b[0m\n"
      ]
     },
     "metadata": {},
     "output_type": "display_data"
    },
    {
     "data": {
      "text/html": [
       "<pre style=\"white-space:pre;overflow-x:auto;line-height:normal;font-family:Menlo,'DejaVu Sans Mono',consolas,'Courier New',monospace\">Welcome to the reminder app.\n",
       "</pre>\n"
      ],
      "text/plain": [
       "Welcome to the reminder app.\n"
      ]
     },
     "metadata": {},
     "output_type": "display_data"
    },
    {
     "data": {
      "text/html": [
       "<pre style=\"white-space:pre;overflow-x:auto;line-height:normal;font-family:Menlo,'DejaVu Sans Mono',consolas,'Courier New',monospace\">--------------------\n",
       "</pre>\n"
      ],
      "text/plain": [
       "--------------------\n"
      ]
     },
     "metadata": {},
     "output_type": "display_data"
    },
    {
     "data": {
      "text/html": [
       "<pre style=\"white-space:pre;overflow-x:auto;line-height:normal;font-family:Menlo,'DejaVu Sans Mono',consolas,'Courier New',monospace\">Options:\n",
       "</pre>\n"
      ],
      "text/plain": [
       "Options:\n"
      ]
     },
     "metadata": {},
     "output_type": "display_data"
    },
    {
     "data": {
      "text/html": [
       "<pre style=\"white-space:pre;overflow-x:auto;line-height:normal;font-family:Menlo,'DejaVu Sans Mono',consolas,'Courier New',monospace\"><span style=\"color: #008080; text-decoration-color: #008080; font-weight: bold\">1</span>. Add a reminder\n",
       "</pre>\n"
      ],
      "text/plain": [
       "\u001b[1;36m1\u001b[0m. Add a reminder\n"
      ]
     },
     "metadata": {},
     "output_type": "display_data"
    },
    {
     "data": {
      "text/html": [
       "<pre style=\"white-space:pre;overflow-x:auto;line-height:normal;font-family:Menlo,'DejaVu Sans Mono',consolas,'Courier New',monospace\"><span style=\"color: #008080; text-decoration-color: #008080; font-weight: bold\">2</span>. Delete a reminder\n",
       "</pre>\n"
      ],
      "text/plain": [
       "\u001b[1;36m2\u001b[0m. Delete a reminder\n"
      ]
     },
     "metadata": {},
     "output_type": "display_data"
    },
    {
     "data": {
      "text/html": [
       "<pre style=\"white-space:pre;overflow-x:auto;line-height:normal;font-family:Menlo,'DejaVu Sans Mono',consolas,'Courier New',monospace\"><span style=\"color: #008080; text-decoration-color: #008080; font-weight: bold\">3</span>. Print all reminders\n",
       "</pre>\n"
      ],
      "text/plain": [
       "\u001b[1;36m3\u001b[0m. Print all reminders\n"
      ]
     },
     "metadata": {},
     "output_type": "display_data"
    },
    {
     "data": {
      "text/html": [
       "<pre style=\"white-space:pre;overflow-x:auto;line-height:normal;font-family:Menlo,'DejaVu Sans Mono',consolas,'Courier New',monospace\"><span style=\"color: #008080; text-decoration-color: #008080; font-weight: bold\">4</span>. Quit\n",
       "</pre>\n"
      ],
      "text/plain": [
       "\u001b[1;36m4\u001b[0m. Quit\n"
      ]
     },
     "metadata": {},
     "output_type": "display_data"
    },
    {
     "data": {
      "text/html": [
       "<pre style=\"white-space:pre;overflow-x:auto;line-height:normal;font-family:Menlo,'DejaVu Sans Mono',consolas,'Courier New',monospace\">Welcome to the reminder app.\n",
       "</pre>\n"
      ],
      "text/plain": [
       "Welcome to the reminder app.\n"
      ]
     },
     "metadata": {},
     "output_type": "display_data"
    },
    {
     "data": {
      "text/html": [
       "<pre style=\"white-space:pre;overflow-x:auto;line-height:normal;font-family:Menlo,'DejaVu Sans Mono',consolas,'Courier New',monospace\">--------------------\n",
       "</pre>\n"
      ],
      "text/plain": [
       "--------------------\n"
      ]
     },
     "metadata": {},
     "output_type": "display_data"
    },
    {
     "data": {
      "text/html": [
       "<pre style=\"white-space:pre;overflow-x:auto;line-height:normal;font-family:Menlo,'DejaVu Sans Mono',consolas,'Courier New',monospace\">Options:\n",
       "</pre>\n"
      ],
      "text/plain": [
       "Options:\n"
      ]
     },
     "metadata": {},
     "output_type": "display_data"
    },
    {
     "data": {
      "text/html": [
       "<pre style=\"white-space:pre;overflow-x:auto;line-height:normal;font-family:Menlo,'DejaVu Sans Mono',consolas,'Courier New',monospace\"><span style=\"color: #008080; text-decoration-color: #008080; font-weight: bold\">1</span>. Add a reminder\n",
       "</pre>\n"
      ],
      "text/plain": [
       "\u001b[1;36m1\u001b[0m. Add a reminder\n"
      ]
     },
     "metadata": {},
     "output_type": "display_data"
    },
    {
     "data": {
      "text/html": [
       "<pre style=\"white-space:pre;overflow-x:auto;line-height:normal;font-family:Menlo,'DejaVu Sans Mono',consolas,'Courier New',monospace\"><span style=\"color: #008080; text-decoration-color: #008080; font-weight: bold\">2</span>. Delete a reminder\n",
       "</pre>\n"
      ],
      "text/plain": [
       "\u001b[1;36m2\u001b[0m. Delete a reminder\n"
      ]
     },
     "metadata": {},
     "output_type": "display_data"
    },
    {
     "data": {
      "text/html": [
       "<pre style=\"white-space:pre;overflow-x:auto;line-height:normal;font-family:Menlo,'DejaVu Sans Mono',consolas,'Courier New',monospace\"><span style=\"color: #008080; text-decoration-color: #008080; font-weight: bold\">3</span>. Print all reminders\n",
       "</pre>\n"
      ],
      "text/plain": [
       "\u001b[1;36m3\u001b[0m. Print all reminders\n"
      ]
     },
     "metadata": {},
     "output_type": "display_data"
    },
    {
     "data": {
      "text/html": [
       "<pre style=\"white-space:pre;overflow-x:auto;line-height:normal;font-family:Menlo,'DejaVu Sans Mono',consolas,'Courier New',monospace\"><span style=\"color: #008080; text-decoration-color: #008080; font-weight: bold\">4</span>. Quit\n",
       "</pre>\n"
      ],
      "text/plain": [
       "\u001b[1;36m4\u001b[0m. Quit\n"
      ]
     },
     "metadata": {},
     "output_type": "display_data"
    },
    {
     "data": {
      "text/html": [
       "<pre style=\"white-space:pre;overflow-x:auto;line-height:normal;font-family:Menlo,'DejaVu Sans Mono',consolas,'Courier New',monospace\">Welcome to the reminder app.\n",
       "</pre>\n"
      ],
      "text/plain": [
       "Welcome to the reminder app.\n"
      ]
     },
     "metadata": {},
     "output_type": "display_data"
    },
    {
     "data": {
      "text/html": [
       "<pre style=\"white-space:pre;overflow-x:auto;line-height:normal;font-family:Menlo,'DejaVu Sans Mono',consolas,'Courier New',monospace\">--------------------\n",
       "</pre>\n"
      ],
      "text/plain": [
       "--------------------\n"
      ]
     },
     "metadata": {},
     "output_type": "display_data"
    },
    {
     "data": {
      "text/html": [
       "<pre style=\"white-space:pre;overflow-x:auto;line-height:normal;font-family:Menlo,'DejaVu Sans Mono',consolas,'Courier New',monospace\">Options:\n",
       "</pre>\n"
      ],
      "text/plain": [
       "Options:\n"
      ]
     },
     "metadata": {},
     "output_type": "display_data"
    },
    {
     "data": {
      "text/html": [
       "<pre style=\"white-space:pre;overflow-x:auto;line-height:normal;font-family:Menlo,'DejaVu Sans Mono',consolas,'Courier New',monospace\"><span style=\"color: #008080; text-decoration-color: #008080; font-weight: bold\">1</span>. Add a reminder\n",
       "</pre>\n"
      ],
      "text/plain": [
       "\u001b[1;36m1\u001b[0m. Add a reminder\n"
      ]
     },
     "metadata": {},
     "output_type": "display_data"
    },
    {
     "data": {
      "text/html": [
       "<pre style=\"white-space:pre;overflow-x:auto;line-height:normal;font-family:Menlo,'DejaVu Sans Mono',consolas,'Courier New',monospace\"><span style=\"color: #008080; text-decoration-color: #008080; font-weight: bold\">2</span>. Delete a reminder\n",
       "</pre>\n"
      ],
      "text/plain": [
       "\u001b[1;36m2\u001b[0m. Delete a reminder\n"
      ]
     },
     "metadata": {},
     "output_type": "display_data"
    },
    {
     "data": {
      "text/html": [
       "<pre style=\"white-space:pre;overflow-x:auto;line-height:normal;font-family:Menlo,'DejaVu Sans Mono',consolas,'Courier New',monospace\"><span style=\"color: #008080; text-decoration-color: #008080; font-weight: bold\">3</span>. Print all reminders\n",
       "</pre>\n"
      ],
      "text/plain": [
       "\u001b[1;36m3\u001b[0m. Print all reminders\n"
      ]
     },
     "metadata": {},
     "output_type": "display_data"
    },
    {
     "data": {
      "text/html": [
       "<pre style=\"white-space:pre;overflow-x:auto;line-height:normal;font-family:Menlo,'DejaVu Sans Mono',consolas,'Courier New',monospace\"><span style=\"color: #008080; text-decoration-color: #008080; font-weight: bold\">4</span>. Quit\n",
       "</pre>\n"
      ],
      "text/plain": [
       "\u001b[1;36m4\u001b[0m. Quit\n"
      ]
     },
     "metadata": {},
     "output_type": "display_data"
    },
    {
     "ename": "ValueError",
     "evalue": "invalid literal for int() with base 10: ''",
     "output_type": "error",
     "traceback": [
      "\u001b[0;31m---------------------------------------------------------------------------\u001b[0m",
      "\u001b[0;31mValueError\u001b[0m                                Traceback (most recent call last)",
      "Cell \u001b[0;32mIn[154], line 2\u001b[0m\n\u001b[1;32m      1\u001b[0m \u001b[39m#|export\u001b[39;00m\n\u001b[0;32m----> 2\u001b[0m auto_llm\u001b[39m.\u001b[39;49mrun()\n",
      "Cell \u001b[0;32mIn[148], line 55\u001b[0m, in \u001b[0;36mAutonomousLLM.run\u001b[0;34m(self, num_calls)\u001b[0m\n\u001b[1;32m     53\u001b[0m subtask \u001b[39m=\u001b[39m \u001b[39mself\u001b[39m\u001b[39m.\u001b[39msubtasks\u001b[39m.\u001b[39mpop(\u001b[39m0\u001b[39m)\n\u001b[1;32m     54\u001b[0m res \u001b[39m=\u001b[39m \u001b[39mself\u001b[39m\u001b[39m.\u001b[39mchain\u001b[39m.\u001b[39mrun_pipeline(subtask)\n\u001b[0;32m---> 55\u001b[0m \u001b[39mself\u001b[39;49m\u001b[39m.\u001b[39;49madd_ability(res)\n",
      "Cell \u001b[0;32mIn[148], line 26\u001b[0m, in \u001b[0;36mAutonomousLLM.add_ability\u001b[0;34m(self, response)\u001b[0m\n\u001b[1;32m     24\u001b[0m \u001b[39mif\u001b[39;00m new_func \u001b[39m:=\u001b[39m response\u001b[39m.\u001b[39mget(\u001b[39m'\u001b[39m\u001b[39mnew_method\u001b[39m\u001b[39m'\u001b[39m):\n\u001b[1;32m     25\u001b[0m     \u001b[39mself\u001b[39m\u001b[39m.\u001b[39mmethods\u001b[39m.\u001b[39mappend(new_func)  \n\u001b[0;32m---> 26\u001b[0m     \u001b[39mself\u001b[39;49m\u001b[39m.\u001b[39;49mexecute_code(textwrap\u001b[39m.\u001b[39;49mdedent(new_func))\n\u001b[1;32m     28\u001b[0m \u001b[39mif\u001b[39;00m attach_func \u001b[39m:=\u001b[39m response\u001b[39m.\u001b[39mget(\u001b[39m'\u001b[39m\u001b[39mattach_method\u001b[39m\u001b[39m'\u001b[39m):      \n\u001b[1;32m     29\u001b[0m     \u001b[39mself\u001b[39m\u001b[39m.\u001b[39mexecute_code_local(textwrap\u001b[39m.\u001b[39mdedent(attach_func))\n",
      "File \u001b[0;32m~/Documents/Learn/AutonomousLLM/env/lib/python3.9/site-packages/decorator.py:232\u001b[0m, in \u001b[0;36mdecorate.<locals>.fun\u001b[0;34m(*args, **kw)\u001b[0m\n\u001b[1;32m    230\u001b[0m \u001b[39mif\u001b[39;00m \u001b[39mnot\u001b[39;00m kwsyntax:\n\u001b[1;32m    231\u001b[0m     args, kw \u001b[39m=\u001b[39m fix(args, kw, sig)\n\u001b[0;32m--> 232\u001b[0m \u001b[39mreturn\u001b[39;00m caller(func, \u001b[39m*\u001b[39;49m(extras \u001b[39m+\u001b[39;49m args), \u001b[39m*\u001b[39;49m\u001b[39m*\u001b[39;49mkw)\n",
      "File \u001b[0;32m~/Documents/Learn/AutonomousLLM/env/lib/python3.9/site-packages/retry/api.py:73\u001b[0m, in \u001b[0;36mretry.<locals>.retry_decorator\u001b[0;34m(f, *fargs, **fkwargs)\u001b[0m\n\u001b[1;32m     71\u001b[0m args \u001b[39m=\u001b[39m fargs \u001b[39mif\u001b[39;00m fargs \u001b[39melse\u001b[39;00m \u001b[39mlist\u001b[39m()\n\u001b[1;32m     72\u001b[0m kwargs \u001b[39m=\u001b[39m fkwargs \u001b[39mif\u001b[39;00m fkwargs \u001b[39melse\u001b[39;00m \u001b[39mdict\u001b[39m()\n\u001b[0;32m---> 73\u001b[0m \u001b[39mreturn\u001b[39;00m __retry_internal(partial(f, \u001b[39m*\u001b[39;49margs, \u001b[39m*\u001b[39;49m\u001b[39m*\u001b[39;49mkwargs), exceptions, tries, delay, max_delay, backoff, jitter,\n\u001b[1;32m     74\u001b[0m                         logger)\n",
      "File \u001b[0;32m~/Documents/Learn/AutonomousLLM/env/lib/python3.9/site-packages/retry/api.py:33\u001b[0m, in \u001b[0;36m__retry_internal\u001b[0;34m(f, exceptions, tries, delay, max_delay, backoff, jitter, logger)\u001b[0m\n\u001b[1;32m     31\u001b[0m \u001b[39mwhile\u001b[39;00m _tries:\n\u001b[1;32m     32\u001b[0m     \u001b[39mtry\u001b[39;00m:\n\u001b[0;32m---> 33\u001b[0m         \u001b[39mreturn\u001b[39;00m f()\n\u001b[1;32m     34\u001b[0m     \u001b[39mexcept\u001b[39;00m exceptions \u001b[39mas\u001b[39;00m e:\n\u001b[1;32m     35\u001b[0m         _tries \u001b[39m-\u001b[39m\u001b[39m=\u001b[39m \u001b[39m1\u001b[39m\n",
      "Cell \u001b[0;32mIn[135], line 6\u001b[0m, in \u001b[0;36minstall_missing_module.<locals>.wrapper\u001b[0;34m(*args, **kwargs)\u001b[0m\n\u001b[1;32m      3\u001b[0m \u001b[39m@wraps\u001b[39m(func)\n\u001b[1;32m      4\u001b[0m \u001b[39mdef\u001b[39;00m \u001b[39mwrapper\u001b[39m(\u001b[39m*\u001b[39margs, \u001b[39m*\u001b[39m\u001b[39m*\u001b[39mkwargs):\n\u001b[1;32m      5\u001b[0m     \u001b[39mtry\u001b[39;00m:\n\u001b[0;32m----> 6\u001b[0m         \u001b[39mreturn\u001b[39;00m func(\u001b[39m*\u001b[39;49margs, \u001b[39m*\u001b[39;49m\u001b[39m*\u001b[39;49mkwargs)\n\u001b[1;32m      7\u001b[0m     \u001b[39mexcept\u001b[39;00m \u001b[39mModuleNotFoundError\u001b[39;00m \u001b[39mas\u001b[39;00m error:\n\u001b[1;32m      8\u001b[0m         module_name \u001b[39m=\u001b[39m traceback\u001b[39m.\u001b[39mextract_tb(error\u001b[39m.\u001b[39m__traceback__)[\u001b[39m-\u001b[39m\u001b[39m1\u001b[39m]\u001b[39m.\u001b[39mname\n",
      "Cell \u001b[0;32mIn[148], line 16\u001b[0m, in \u001b[0;36mAutonomousLLM.execute_code\u001b[0;34m(self, code)\u001b[0m\n\u001b[1;32m     12\u001b[0m \u001b[39m@retry\u001b[39m(\u001b[39mException\u001b[39;00m, tries\u001b[39m=\u001b[39m\u001b[39m3\u001b[39m, delay\u001b[39m=\u001b[39m\u001b[39m1\u001b[39m)\n\u001b[1;32m     13\u001b[0m \u001b[39m@install_missing_module\u001b[39m\n\u001b[1;32m     14\u001b[0m \u001b[39mdef\u001b[39;00m \u001b[39mexecute_code\u001b[39m(\u001b[39mself\u001b[39m, code):\n\u001b[1;32m     15\u001b[0m     \u001b[39m# Process the returned code and add it to AutonomousLLM\u001b[39;00m\n\u001b[0;32m---> 16\u001b[0m     exec(code, \u001b[39mglobals\u001b[39;49m())\n",
      "File \u001b[0;32m<string>:55\u001b[0m\n",
      "File \u001b[0;32m<string>:42\u001b[0m, in \u001b[0;36mmain\u001b[0;34m()\u001b[0m\n",
      "\u001b[0;31mValueError\u001b[0m: invalid literal for int() with base 10: ''"
     ]
    }
   ],
   "source": [
    "#|export\n",
    "auto_llm.run()"
   ]
  },
  {
   "cell_type": "code",
   "execution_count": 59,
   "metadata": {},
   "outputs": [
    {
     "data": {
      "text/plain": [
       "{'ideas': ['Voice recognition for hands-free operation'],\n",
       " 'subtasks': [],\n",
       " 'methods': ['import datetime\\n\\nclass Task:\\n    def __init__(self, name, priority, description, due_date):\\n        self.name = name\\n        self.priority = priority\\n        self.description = description\\n        self.due_date = datetime.datetime.strptime(due_date, \\'%m/%d/%Y\\')\\n        self.completed = False\\n\\n    def complete_task(self):\\n        self.completed = True\\n\\n    def __str__(self):\\n        return f\"Task Name: {self.name}\\\\nPriority: {self.priority}\\\\nDescription: {self.description}\\\\nDue Date: {self.due_date.strftime(\\'%m/%d/%Y\\')}\\\\nCompleted: {\\'Yes\\' if self.completed else \\'No\\'}\\\\n\"\\n\\n\\nclass TaskList:\\n    def __init__(self):\\n        self.tasks = []\\n\\n    def add_task(self, task):\\n        self.tasks.append(task)\\n\\n    def remove_task(self, task_name):\\n        for task in self.tasks:\\n            if task.name.lower() == task_name.lower():\\n                self.tasks.remove(task)\\n                print(f\"{task_name} has been removed.\")\\n                return\\n        print(f\"Task {task_name} not found.\")\\n\\n    def complete_task(self, task_name):\\n        for task in self.tasks:\\n            if task.name.lower() == task_name.lower():\\n                task.complete_task()\\n                print(f\"{task_name} has been marked as completed.\")\\n                return\\n        print(f\"Task {task_name} not found.\")\\n\\n    def list_tasks(self):\\n        for task in self.tasks:\\n            print(task)\\n\\ntask_list = TaskList()\\ntask_list.add_task(Task(\\'Clean the house\\', \\'High\\', \\'Vacuum and mop floors, dust furniture\\', \\'5/20/2022\\'))\\ntask_list.add_task(Task(\\'Buy groceries\\', \\'Medium\\', \\'Milk, eggs, bread, cheese\\', \\'5/25/2022\\'))\\ntask_list.add_task(Task(\\'Do laundry\\', \\'Low\\', \\'Wash and fold clothes\\', \\'5/30/2022\\'))\\n\\ntask_list.list_tasks()\\n\\ntask_list.complete_task(\\'Clean the house\\')\\n\\ntask_list.remove_task(\\'buy groceries\\')\\n\\ntask_list.list_tasks()'],\n",
       " 'chain': <__main__.CodeGenChain at 0x1460bcbb0>,\n",
       " 'Task': __main__.Task,\n",
       " 'TaskList': __main__.TaskList}"
      ]
     },
     "execution_count": 59,
     "metadata": {},
     "output_type": "execute_result"
    }
   ],
   "source": [
    "auto_llm.__dict__"
   ]
  },
  {
   "cell_type": "code",
   "execution_count": 64,
   "metadata": {},
   "outputs": [
    {
     "ename": "AttributeError",
     "evalue": "'AutonomousLLM' object has no attribute 'tasks'",
     "output_type": "error",
     "traceback": [
      "\u001b[0;31m---------------------------------------------------------------------------\u001b[0m",
      "\u001b[0;31mAttributeError\u001b[0m                            Traceback (most recent call last)",
      "Cell \u001b[0;32mIn[64], line 1\u001b[0m\n\u001b[0;32m----> 1\u001b[0m auto_llm\u001b[39m.\u001b[39;49mTaskList\u001b[39m.\u001b[39;49mlist_tasks(auto_llm)\n",
      "File \u001b[0;32m<string>:42\u001b[0m, in \u001b[0;36mlist_tasks\u001b[0;34m(self)\u001b[0m\n",
      "\u001b[0;31mAttributeError\u001b[0m: 'AutonomousLLM' object has no attribute 'tasks'"
     ]
    }
   ],
   "source": []
  },
  {
   "attachments": {},
   "cell_type": "markdown",
   "metadata": {},
   "source": [
    "# Testing"
   ]
  },
  {
   "cell_type": "code",
   "execution_count": 45,
   "metadata": {},
   "outputs": [
    {
     "data": {
      "text/html": [
       "<pre style=\"white-space:pre;overflow-x:auto;line-height:normal;font-family:Menlo,'DejaVu Sans Mono',consolas,'Courier New',monospace\">=== Calling API ====\n",
       "</pre>\n"
      ],
      "text/plain": [
       "=== Calling API ====\n"
      ]
     },
     "metadata": {},
     "output_type": "display_data"
    },
    {
     "data": {
      "text/html": [
       "<pre style=\"white-space:pre;overflow-x:auto;line-height:normal;font-family:Menlo,'DejaVu Sans Mono',consolas,'Courier New',monospace\"><span style=\"font-weight: bold\">{</span>\n",
       "    <span style=\"color: #008000; text-decoration-color: #008000\">\"new_method\"</span>: <span style=\"color: #008000; text-decoration-color: #008000\">\"def add_geolocation_map(self, api_key):\\n    html = '''&lt;!DOCTYPE html&gt;\\n&lt;html&gt;\\n&lt;head&gt;\\n    </span>\n",
       "<span style=\"color: #008000; text-decoration-color: #008000\">&lt;title&gt;Google Maps Integration&lt;/title&gt;\\n    &lt;style type=\\\"text/css\\\"&gt;\\n        #map {\\n            height: 100%;\\n </span>\n",
       "<span style=\"color: #008000; text-decoration-color: #008000\">}\\n        html, body {\\n            height: 100%;\\n            margin: 0;\\n            padding: 0;\\n        }\\n   </span>\n",
       "<span style=\"color: #008000; text-decoration-color: #008000\">&lt;/style&gt;\\n&lt;/head&gt;\\n&lt;body&gt;\\n    &lt;div id=\\\"map\\\"&gt;&lt;/div&gt;\\n    &lt;script type=\\\"text/javascript\\\"&gt;\\n        // Define the</span>\n",
       "<span style=\"color: #008000; text-decoration-color: #008000\">initial center of the map\\n        var initialCenter = {lat: 37.7749, lng: -122.4194};\\n\\n        // Load the </span>\n",
       "<span style=\"color: #008000; text-decoration-color: #008000\">Google Maps Javascript API\\n        function loadMap() {\\n            // Create a new map object\\n            var </span>\n",
       "<span style=\"color: #008000; text-decoration-color: #008000\">map = new google.maps.Map(document.getElementById('map'), {\\n                center: initialCenter,\\n              </span>\n",
       "<span style=\"color: #008000; text-decoration-color: #008000\">zoom: 10\\n            });\\n\\n            // Create a new marker object to represent the user's position\\n          </span>\n",
       "<span style=\"color: #008000; text-decoration-color: #008000\">var marker = new google.maps.Marker({\\n                position: initialCenter,\\n                map: map,\\n       </span>\n",
       "<span style=\"color: #008000; text-decoration-color: #008000\">title: \\\"You are here\\\"\\n            });\\n\\n            // Try HTML5 geolocation\\n            if </span>\n",
       "<span style=\"color: #008000; text-decoration-color: #008000\">(navigator.geolocation) {\\n                navigator.geolocation.getCurrentPosition(function(position) {\\n         </span>\n",
       "<span style=\"color: #008000; text-decoration-color: #008000\">// Set the marker's position to the user's current position\\n                    var userPosition = {\\n            </span>\n",
       "<span style=\"color: #008000; text-decoration-color: #008000\">lat: position.coords.latitude,\\n                        lng: position.coords.longitude\\n                    };\\n   </span>\n",
       "<span style=\"color: #008000; text-decoration-color: #008000\">marker.setPosition(userPosition);\\n\\n                    // Center the map on the user's position\\n                </span>\n",
       "<span style=\"color: #008000; text-decoration-color: #008000\">map.setCenter(userPosition);\\n                }, function() {\\n                    // Handle geolocation errors\\n  </span>\n",
       "<span style=\"color: #008000; text-decoration-color: #008000\">alert(\\\"Geolocation failed.\\\");\\n                });\\n            } else {\\n                // Browser doesn't </span>\n",
       "<span style=\"color: #008000; text-decoration-color: #008000\">support Geolocation\\n                alert(\\\"Your browser does not support geolocation.\\\");\\n            }\\n       </span>\n",
       "<span style=\"color: #008000; text-decoration-color: #008000\">}\\n\\n        // Load the map when the page loads\\n        window.onload = loadMap;\\n    &lt;/script&gt;\\n    &lt;script </span>\n",
       "<span style=\"color: #008000; text-decoration-color: #008000\">src=\\\"https://maps.googleapis.com/maps/api/js?key={}\\\"&gt;&lt;/script&gt;\\n&lt;/body&gt;\\n&lt;/html&gt;'''.format(api_key)\\n    </span>\n",
       "<span style=\"color: #008000; text-decoration-color: #008000\">self.geolocation_map = html\"</span>,\n",
       "    <span style=\"color: #008000; text-decoration-color: #008000\">\"attach_method\"</span>: <span style=\"color: #008000; text-decoration-color: #008000\">\"setattr(self, 'add_geolocation_map', add_geolocation_map)\"</span>\n",
       "<span style=\"font-weight: bold\">}</span>\n",
       "</pre>\n"
      ],
      "text/plain": [
       "\u001b[1m{\u001b[0m\n",
       "    \u001b[32m\"new_method\"\u001b[0m: \u001b[32m\"def add_geolocation_map\u001b[0m\u001b[32m(\u001b[0m\u001b[32mself, api_key\u001b[0m\u001b[32m)\u001b[0m\u001b[32m:\\n    html = '''\u001b[0m\u001b[32m<\u001b[0m\u001b[32m!DOCTYPE html>\\n<html>\\n<head>\\n    \u001b[0m\n",
       "\u001b[32m<title>Google Maps Integration</title>\\n    <style \u001b[0m\u001b[32mtype\u001b[0m\u001b[32m=\\\"text/css\\\">\\n        #map \u001b[0m\u001b[32m{\u001b[0m\u001b[32m\\n            height: 100%;\\n \u001b[0m\n",
       "\u001b[32m}\u001b[0m\u001b[32m\\n        html, body \u001b[0m\u001b[32m{\u001b[0m\u001b[32m\\n            height: 100%;\\n            margin: 0;\\n            padding: 0;\\n        \u001b[0m\u001b[32m}\u001b[0m\u001b[32m\\n   \u001b[0m\n",
       "\u001b[32m</style>\\n</head>\\n<body>\\n    <div \u001b[0m\u001b[32mid\u001b[0m\u001b[32m=\\\"map\\\"></div>\\n    <script \u001b[0m\u001b[32mtype\u001b[0m\u001b[32m=\\\"text/javascript\\\">\\n        // Define the\u001b[0m\n",
       "\u001b[32minitial center of the map\\n        var initialCenter = \u001b[0m\u001b[32m{\u001b[0m\u001b[32mlat: 37.7749, lng: -122.4194\u001b[0m\u001b[32m}\u001b[0m\u001b[32m;\\n\\n        // Load the \u001b[0m\n",
       "\u001b[32mGoogle Maps Javascript API\\n        function loadMap\u001b[0m\u001b[32m(\u001b[0m\u001b[32m)\u001b[0m\u001b[32m \u001b[0m\u001b[32m{\u001b[0m\u001b[32m\\n            // Create a new map object\\n            var \u001b[0m\n",
       "\u001b[32mmap = new google.maps.Map\u001b[0m\u001b[32m(\u001b[0m\u001b[32mdocument.getElementById\u001b[0m\u001b[32m(\u001b[0m\u001b[32m'map'\u001b[0m\u001b[32m)\u001b[0m\u001b[32m, \u001b[0m\u001b[32m{\u001b[0m\u001b[32m\\n                center: initialCenter,\\n              \u001b[0m\n",
       "\u001b[32mzoom: 10\\n            \u001b[0m\u001b[32m}\u001b[0m\u001b[32m)\u001b[0m\u001b[32m;\\n\\n            // Create a new marker object to represent the user's position\\n          \u001b[0m\n",
       "\u001b[32mvar marker = new google.maps.Marker\u001b[0m\u001b[32m(\u001b[0m\u001b[32m{\u001b[0m\u001b[32m\\n                position: initialCenter,\\n                map: map,\\n       \u001b[0m\n",
       "\u001b[32mtitle: \\\"You are here\\\"\\n            \u001b[0m\u001b[32m}\u001b[0m\u001b[32m)\u001b[0m\u001b[32m;\\n\\n            // Try HTML5 geolocation\\n            if \u001b[0m\n",
       "\u001b[32m(\u001b[0m\u001b[32mnavigator.geolocation\u001b[0m\u001b[32m)\u001b[0m\u001b[32m \u001b[0m\u001b[32m{\u001b[0m\u001b[32m\\n                navigator.geolocation.getCurrentPosition\u001b[0m\u001b[32m(\u001b[0m\u001b[32mfunction\u001b[0m\u001b[32m(\u001b[0m\u001b[32mposition\u001b[0m\u001b[32m)\u001b[0m\u001b[32m \u001b[0m\u001b[32m{\u001b[0m\u001b[32m\\n         \u001b[0m\n",
       "\u001b[32m// Set the marker's position to the user's current position\\n                    var userPosition = \u001b[0m\u001b[32m{\u001b[0m\u001b[32m\\n            \u001b[0m\n",
       "\u001b[32mlat: position.coords.latitude,\\n                        lng: position.coords.longitude\\n                    \u001b[0m\u001b[32m}\u001b[0m\u001b[32m;\\n   \u001b[0m\n",
       "\u001b[32mmarker.setPosition\u001b[0m\u001b[32m(\u001b[0m\u001b[32muserPosition\u001b[0m\u001b[32m)\u001b[0m\u001b[32m;\\n\\n                    // Center the map on the user's position\\n                \u001b[0m\n",
       "\u001b[32mmap.setCenter\u001b[0m\u001b[32m(\u001b[0m\u001b[32muserPosition\u001b[0m\u001b[32m)\u001b[0m\u001b[32m;\\n                \u001b[0m\u001b[32m}\u001b[0m\u001b[32m, function\u001b[0m\u001b[32m(\u001b[0m\u001b[32m)\u001b[0m\u001b[32m \u001b[0m\u001b[32m{\u001b[0m\u001b[32m\\n                    // Handle geolocation errors\\n  \u001b[0m\n",
       "\u001b[32malert\u001b[0m\u001b[32m(\u001b[0m\u001b[32m\\\"Geolocation failed.\\\"\u001b[0m\u001b[32m)\u001b[0m\u001b[32m;\\n                \u001b[0m\u001b[32m}\u001b[0m\u001b[32m)\u001b[0m\u001b[32m;\\n            \u001b[0m\u001b[32m}\u001b[0m\u001b[32m else \u001b[0m\u001b[32m{\u001b[0m\u001b[32m\\n                // Browser doesn't \u001b[0m\n",
       "\u001b[32msupport Geolocation\\n                alert\u001b[0m\u001b[32m(\u001b[0m\u001b[32m\\\"Your browser does not support geolocation.\\\"\u001b[0m\u001b[32m)\u001b[0m\u001b[32m;\\n            \u001b[0m\u001b[32m}\u001b[0m\u001b[32m\\n       \u001b[0m\n",
       "\u001b[32m}\u001b[0m\u001b[32m\\n\\n        // Load the map when the page loads\\n        window.onload = loadMap;\\n    </script>\\n    <script \u001b[0m\n",
       "\u001b[32msrc\u001b[0m\u001b[32m=\\\"https://maps.googleapis.com/maps/api/js?\u001b[0m\u001b[32mkey\u001b[0m\u001b[32m=\u001b[0m\u001b[32m{\u001b[0m\u001b[32m}\u001b[0m\u001b[32m\\\"></script>\\n</body>\\n</html\u001b[0m\u001b[32m>\u001b[0m\u001b[32m'''.format\u001b[0m\u001b[32m(\u001b[0m\u001b[32mapi_key\u001b[0m\u001b[32m)\u001b[0m\u001b[32m\\n    \u001b[0m\n",
       "\u001b[32mself.geolocation_map = html\"\u001b[0m,\n",
       "    \u001b[32m\"attach_method\"\u001b[0m: \u001b[32m\"setattr\u001b[0m\u001b[32m(\u001b[0m\u001b[32mself, 'add_geolocation_map', add_geolocation_map\u001b[0m\u001b[32m)\u001b[0m\u001b[32m\"\u001b[0m\n",
       "\u001b[1m}\u001b[0m\n"
      ]
     },
     "metadata": {},
     "output_type": "display_data"
    },
    {
     "data": {
      "text/plain": [
       "{'new_method': 'def add_geolocation_map(self, api_key):\\n    html = \\'\\'\\'<!DOCTYPE html>\\n<html>\\n<head>\\n    <title>Google Maps Integration</title>\\n    <style type=\"text/css\">\\n        #map {\\n            height: 100%;\\n        }\\n        html, body {\\n            height: 100%;\\n            margin: 0;\\n            padding: 0;\\n        }\\n    </style>\\n</head>\\n<body>\\n    <div id=\"map\"></div>\\n    <script type=\"text/javascript\">\\n        // Define the initial center of the map\\n        var initialCenter = {lat: 37.7749, lng: -122.4194};\\n\\n        // Load the Google Maps Javascript API\\n        function loadMap() {\\n            // Create a new map object\\n            var map = new google.maps.Map(document.getElementById(\\'map\\'), {\\n                center: initialCenter,\\n                zoom: 10\\n            });\\n\\n            // Create a new marker object to represent the user\\'s position\\n            var marker = new google.maps.Marker({\\n                position: initialCenter,\\n                map: map,\\n                title: \"You are here\"\\n            });\\n\\n            // Try HTML5 geolocation\\n            if (navigator.geolocation) {\\n                navigator.geolocation.getCurrentPosition(function(position) {\\n                    // Set the marker\\'s position to the user\\'s current position\\n                    var userPosition = {\\n                        lat: position.coords.latitude,\\n                        lng: position.coords.longitude\\n                    };\\n                    marker.setPosition(userPosition);\\n\\n                    // Center the map on the user\\'s position\\n                    map.setCenter(userPosition);\\n                }, function() {\\n                    // Handle geolocation errors\\n                    alert(\"Geolocation failed.\");\\n                });\\n            } else {\\n                // Browser doesn\\'t support Geolocation\\n                alert(\"Your browser does not support geolocation.\");\\n            }\\n        }\\n\\n        // Load the map when the page loads\\n        window.onload = loadMap;\\n    </script>\\n    <script src=\"https://maps.googleapis.com/maps/api/js?key={}\"></script>\\n</body>\\n</html>\\'\\'\\'.format(api_key)\\n    self.geolocation_map = html',\n",
       " 'attach_method': \"setattr(self, 'add_geolocation_map', add_geolocation_map)\"}"
      ]
     },
     "execution_count": 45,
     "metadata": {},
     "output_type": "execute_result"
    }
   ],
   "source": [
    "auto_llm.chain.run_pipeline(\"Add Google Maps integration to track user position\")"
   ]
  },
  {
   "attachments": {},
   "cell_type": "markdown",
   "metadata": {},
   "source": [
    "# Analysis"
   ]
  },
  {
   "cell_type": "code",
   "execution_count": 121,
   "metadata": {},
   "outputs": [
    {
     "data": {
      "text/html": [
       "<pre style=\"white-space:pre;overflow-x:auto;line-height:normal;font-family:Menlo,'DejaVu Sans Mono',consolas,'Courier New',monospace\">def <span style=\"color: #800080; text-decoration-color: #800080; font-weight: bold\">identify_platforms</span><span style=\"font-weight: bold\">()</span>:\n",
       "    platforms = <span style=\"font-weight: bold\">[</span><span style=\"color: #008000; text-decoration-color: #008000\">\"Alexa\"</span>, <span style=\"color: #008000; text-decoration-color: #008000\">\"Google Home\"</span>, <span style=\"color: #008000; text-decoration-color: #008000\">\"Apple HomeKit\"</span>, <span style=\"color: #008000; text-decoration-color: #008000\">\"Microsoft Cortana\"</span>, <span style=\"color: #008000; text-decoration-color: #008000\">\"Samsung SmartThings\"</span><span style=\"font-weight: bold\">]</span>\n",
       "    <span style=\"color: #800080; text-decoration-color: #800080; font-weight: bold\">print</span><span style=\"font-weight: bold\">(</span><span style=\"color: #008000; text-decoration-color: #008000\">\"Platform(s) to integrate with:\"</span><span style=\"font-weight: bold\">)</span>\n",
       "    for platform in platforms:\n",
       "        <span style=\"color: #800080; text-decoration-color: #800080; font-weight: bold\">print</span><span style=\"font-weight: bold\">(</span><span style=\"color: #008000; text-decoration-color: #008000\">\"- \"</span> + platform<span style=\"font-weight: bold\">)</span>\n",
       "\n",
       "</pre>\n"
      ],
      "text/plain": [
       "def \u001b[1;35midentify_platforms\u001b[0m\u001b[1m(\u001b[0m\u001b[1m)\u001b[0m:\n",
       "    platforms = \u001b[1m[\u001b[0m\u001b[32m\"Alexa\"\u001b[0m, \u001b[32m\"Google Home\"\u001b[0m, \u001b[32m\"Apple HomeKit\"\u001b[0m, \u001b[32m\"Microsoft Cortana\"\u001b[0m, \u001b[32m\"Samsung SmartThings\"\u001b[0m\u001b[1m]\u001b[0m\n",
       "    \u001b[1;35mprint\u001b[0m\u001b[1m(\u001b[0m\u001b[32m\"Platform\u001b[0m\u001b[32m(\u001b[0m\u001b[32ms\u001b[0m\u001b[32m)\u001b[0m\u001b[32m to integrate with:\"\u001b[0m\u001b[1m)\u001b[0m\n",
       "    for platform in platforms:\n",
       "        \u001b[1;35mprint\u001b[0m\u001b[1m(\u001b[0m\u001b[32m\"- \"\u001b[0m + platform\u001b[1m)\u001b[0m\n",
       "\n"
      ]
     },
     "metadata": {},
     "output_type": "display_data"
    },
    {
     "data": {
      "text/html": [
       "<pre style=\"white-space:pre;overflow-x:auto;line-height:normal;font-family:Menlo,'DejaVu Sans Mono',consolas,'Courier New',monospace\">def <span style=\"color: #800080; text-decoration-color: #800080; font-weight: bold\">add_method</span><span style=\"font-weight: bold\">(</span>self, function<span style=\"font-weight: bold\">)</span>:\n",
       "    <span style=\"color: #800080; text-decoration-color: #800080; font-weight: bold\">setattr</span><span style=\"font-weight: bold\">(</span>self, function.__name__, function<span style=\"font-weight: bold\">)</span>\n",
       "</pre>\n"
      ],
      "text/plain": [
       "def \u001b[1;35madd_method\u001b[0m\u001b[1m(\u001b[0mself, function\u001b[1m)\u001b[0m:\n",
       "    \u001b[1;35msetattr\u001b[0m\u001b[1m(\u001b[0mself, function.__name__, function\u001b[1m)\u001b[0m\n"
      ]
     },
     "metadata": {},
     "output_type": "display_data"
    },
    {
     "data": {
      "text/html": [
       "<pre style=\"white-space:pre;overflow-x:auto;line-height:normal;font-family:Menlo,'DejaVu Sans Mono',consolas,'Courier New',monospace\">def <span style=\"color: #800080; text-decoration-color: #800080; font-weight: bold\">add_method</span><span style=\"font-weight: bold\">(</span>self, func<span style=\"font-weight: bold\">)</span>:\n",
       "    <span style=\"color: #800080; text-decoration-color: #800080; font-weight: bold\">setattr</span><span style=\"font-weight: bold\">(</span>self, func.__name__, func<span style=\"font-weight: bold\">)</span>\n",
       "</pre>\n"
      ],
      "text/plain": [
       "def \u001b[1;35madd_method\u001b[0m\u001b[1m(\u001b[0mself, func\u001b[1m)\u001b[0m:\n",
       "    \u001b[1;35msetattr\u001b[0m\u001b[1m(\u001b[0mself, func.__name__, func\u001b[1m)\u001b[0m\n"
      ]
     },
     "metadata": {},
     "output_type": "display_data"
    }
   ],
   "source": [
    "for method in auto_llm.methods:\n",
    "    print(method)"
   ]
  },
  {
   "attachments": {},
   "cell_type": "markdown",
   "metadata": {},
   "source": [
    "# Exec Testing"
   ]
  },
  {
   "cell_type": "code",
   "execution_count": null,
   "metadata": {},
   "outputs": [],
   "source": [
    "globals_dict = {'x': 10}\n",
    "locals_dict = {}\n",
    "\n",
    "code_string = '''\n",
    "y = x + 5\n",
    "print(y)\n",
    "'''\n",
    "\n",
    "exec(code_string, globals_dict, locals_dict)"
   ]
  },
  {
   "cell_type": "code",
   "execution_count": null,
   "metadata": {},
   "outputs": [],
   "source": [
    "locals_dict"
   ]
  },
  {
   "attachments": {},
   "cell_type": "markdown",
   "metadata": {},
   "source": [
    "# Guardrails"
   ]
  },
  {
   "attachments": {},
   "cell_type": "markdown",
   "metadata": {},
   "source": [
    "## Python Code"
   ]
  },
  {
   "cell_type": "code",
   "execution_count": null,
   "metadata": {},
   "outputs": [],
   "source": [
    "rail_str = \"\"\"\n",
    "<rail version=\"0.1\">\n",
    "\n",
    "<output>\n",
    "    <pythoncode\n",
    "        name=\"python_code\"\n",
    "        format=\"bug-free-python\"\n",
    "        on-fail-bug-free-python=\"reask\"\n",
    "    />\n",
    "</output>\n",
    "\n",
    "\n",
    "<prompt>\n",
    "Given the following high level leetcode problem description, write a short Python code snippet that solves the problem.\n",
    "\n",
    "Problem Description:\n",
    "{{leetcode_problem}}\n",
    "\n",
    "@complete_json_suffix</prompt>\n",
    "\n",
    "</rail>\n",
    "\"\"\""
   ]
  },
  {
   "cell_type": "code",
   "execution_count": null,
   "metadata": {},
   "outputs": [],
   "source": [
    "import guardrails as gd\n",
    "\n",
    "from rich import print\n",
    "\n",
    "guard = gd.Guard.from_rail_string(rail_str)"
   ]
  },
  {
   "cell_type": "code",
   "execution_count": null,
   "metadata": {},
   "outputs": [],
   "source": [
    "print(guard.base_prompt)"
   ]
  },
  {
   "cell_type": "code",
   "execution_count": null,
   "metadata": {},
   "outputs": [],
   "source": [
    "import openai\n",
    "\n",
    "leetcode_problem = \"\"\"\n",
    "Given a string s, find the longest palindromic substring in s. You may assume that the maximum length of s is 1000.\n",
    "\"\"\"\n",
    "\n",
    "raw_llm_response, validated_response = guard(\n",
    "    openai.Completion.create,\n",
    "    prompt_params={\"leetcode_problem\": leetcode_problem},\n",
    "    engine=\"text-davinci-003\",\n",
    "    max_tokens=2048,\n",
    "    temperature=0,\n",
    ")"
   ]
  },
  {
   "cell_type": "code",
   "execution_count": null,
   "metadata": {},
   "outputs": [],
   "source": [
    "raw_llm_response"
   ]
  },
  {
   "cell_type": "code",
   "execution_count": null,
   "metadata": {},
   "outputs": [],
   "source": [
    "print(validated_response)"
   ]
  },
  {
   "attachments": {},
   "cell_type": "markdown",
   "metadata": {},
   "source": [
    "## ChatCompletions"
   ]
  },
  {
   "cell_type": "code",
   "execution_count": null,
   "metadata": {},
   "outputs": [],
   "source": [
    "import guardrails as gd\n",
    "\n",
    "from rich import print\n",
    "\n",
    "content = gd.docs_utils.read_pdf(\"./chase_card_agreement.pdf\")\n",
    "\n",
    "print(f\"Chase Credit Card Document:\\n\\n{content[:275]}\\n...\")"
   ]
  },
  {
   "cell_type": "code",
   "execution_count": null,
   "metadata": {},
   "outputs": [],
   "source": [
    "rail_str = \"\"\"\n",
    "<rail version=\"0.1\">\n",
    "\n",
    "<output>\n",
    "    <pythoncode\n",
    "        name=\"new_method\"\n",
    "        format=\"bug-free-python\"\n",
    "        on-fail-bug-free-python=\"reask\"\n",
    "    />\n",
    "    <pythoncode\n",
    "        name=\"attach_method\"\n",
    "        format=\"bug-free-python\"\n",
    "        on-fail-bug-free-python=\"reask\"\n",
    "    />\n",
    "</output>\n",
    "\n",
    "\n",
    "<instructions>\n",
    "You are a helpful assistant only capable of communicating with valid JSON, and no other text.\n",
    "\n",
    "@json_suffix_prompt_examples\n",
    "</instructions>\n",
    "\n",
    "\n",
    "<prompt>\n",
    "You are AutonomousLLM\n",
    "Your goal is to continously self improve. The user will provide you with abilities to add to yourself.\n",
    "When you receive such request, you must implement the requested ability in python code as a python function, you shall place this code in the 'new_method' key of the JSON object you return.\n",
    "You shall use the setattr method to add a method to yourself. you shall place this code in the 'attach_method' key of the JSON object you return.\n",
    "You shall place this code in the 'execute_method' key of the JSON object you return. \n",
    "Only return a JSON object and nothing else.\n",
    "\n",
    "The user request is:\n",
    "{{prompt}}\n",
    "\n",
    "@xml_prefix_prompt\n",
    "\n",
    "{output_schema}\n",
    "</prompt>\n",
    "\n",
    "</rail>\n",
    "\"\"\""
   ]
  },
  {
   "cell_type": "code",
   "execution_count": null,
   "metadata": {},
   "outputs": [],
   "source": [
    "guard = gd.Guard.from_rail_string(rail_str)"
   ]
  },
  {
   "cell_type": "code",
   "execution_count": null,
   "metadata": {},
   "outputs": [],
   "source": [
    "print(guard.base_prompt)"
   ]
  },
  {
   "cell_type": "code",
   "execution_count": null,
   "metadata": {},
   "outputs": [],
   "source": [
    "print(guard.instructions.source)"
   ]
  },
  {
   "cell_type": "code",
   "execution_count": null,
   "metadata": {},
   "outputs": [],
   "source": [
    "import openai\n",
    "\n",
    "raw_llm_response, validated_response = guard(\n",
    "    openai.ChatCompletion.create,\n",
    "    prompt_params={\"prompt\": \"Add the ability to detect sentiment of webpage\"},\n",
    "    model=\"gpt-3.5-turbo\",\n",
    "    max_tokens=2048,\n",
    "    temperature=0,\n",
    ")"
   ]
  },
  {
   "cell_type": "code",
   "execution_count": null,
   "metadata": {},
   "outputs": [],
   "source": [
    "print(validated_response)"
   ]
  },
  {
   "cell_type": "code",
   "execution_count": null,
   "metadata": {},
   "outputs": [],
   "source": [
    "raw_llm_response"
   ]
  },
  {
   "cell_type": "code",
   "execution_count": null,
   "metadata": {},
   "outputs": [],
   "source": [
    "validated_response"
   ]
  },
  {
   "cell_type": "code",
   "execution_count": null,
   "metadata": {},
   "outputs": [],
   "source": [
    "print(raw_llm_response)"
   ]
  },
  {
   "cell_type": "code",
   "execution_count": 120,
   "metadata": {},
   "outputs": [
    {
     "data": {
      "text/plain": [
       "['def identify_platforms():\\n    platforms = [\"Alexa\", \"Google Home\", \"Apple HomeKit\", \"Microsoft Cortana\", \"Samsung SmartThings\"]\\n    print(\"Platform(s) to integrate with:\")\\n    for platform in platforms:\\n        print(\"- \" + platform)\\n',\n",
       " 'def add_method(self, function):\\n    setattr(self, function.__name__, function)',\n",
       " 'def add_method(self, func):\\n    setattr(self, func.__name__, func)']"
      ]
     },
     "execution_count": 120,
     "metadata": {},
     "output_type": "execute_result"
    }
   ],
   "source": [
    "auto_llm.methods"
   ]
  },
  {
   "attachments": {},
   "cell_type": "markdown",
   "metadata": {},
   "source": [
    "# Export"
   ]
  },
  {
   "cell_type": "code",
   "execution_count": null,
   "metadata": {},
   "outputs": [],
   "source": [
    "nbdev.export.nb_export('./AutonomousLLM.ipynb', 'dist')"
   ]
  },
  {
   "cell_type": "code",
   "execution_count": 155,
   "metadata": {},
   "outputs": [],
   "source": [
    "def save_code_to_file(code_list, file_path):\n",
    "    with open(file_path, 'a') as file:\n",
    "        file.write('\\n')\n",
    "        for code in code_list:\n",
    "            file.write(code + '\\n')\n",
    "\n",
    "save_code_to_file(auto_llm.methods, \"./outputs/methods.py\")"
   ]
  }
 ],
 "metadata": {
  "kernelspec": {
   "display_name": "env",
   "language": "python",
   "name": "python3"
  },
  "language_info": {
   "codemirror_mode": {
    "name": "ipython",
    "version": 3
   },
   "file_extension": ".py",
   "mimetype": "text/x-python",
   "name": "python",
   "nbconvert_exporter": "python",
   "pygments_lexer": "ipython3",
   "version": "3.9.12"
  },
  "orig_nbformat": 4
 },
 "nbformat": 4,
 "nbformat_minor": 2
}
